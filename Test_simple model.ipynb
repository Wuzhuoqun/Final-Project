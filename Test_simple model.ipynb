{
 "cells": [
  {
   "cell_type": "code",
   "execution_count": 1,
   "metadata": {},
   "outputs": [],
   "source": [
    "import pyfeng as pf\n",
    "import timer_condmc\n",
    "import time\n",
    "import numpy as np\n",
    "import pandas as pd"
   ]
  },
  {
   "cell_type": "code",
   "execution_count": 3,
   "metadata": {},
   "outputs": [
    {
     "name": "stdout",
     "output_type": "stream",
     "text": [
      "BSM_price = 11.923538474048499\n",
      "vov(η)= 0.125 texp(T)= 4 rho(ρ)= 0 strike(K)= 100 :    Timer Call Option = 11.910888000715449\n",
      "vov(η)= 0.125 texp(T)= 4 rho(ρ)= 0 strike(K)= 100 :    Timer Call Option = 11.974767210987224\n",
      "vov(η)= 0.125 texp(T)= 4 rho(ρ)= 0 strike(K)= 100 :    Timer Call Option = 11.882728352916411\n",
      "vov(η)= 0.125 texp(T)= 4 rho(ρ)= 0 strike(K)= 100 :    Timer Call Option = 11.945288925654259\n",
      "vov(η)= 0.125 texp(T)= 4 rho(ρ)= 0 strike(K)= 100 :    Timer Call Option = 11.952079922585979\n",
      "vov(η)= 0.125 texp(T)= 4 rho(ρ)= 0 strike(K)= 100 :    Timer Call Option = 11.954797872731355\n",
      "vov(η)= 0.125 texp(T)= 4 rho(ρ)= 0 strike(K)= 100 :    Timer Call Option = 11.936016204574727\n",
      "vov(η)= 0.125 texp(T)= 4 rho(ρ)= 0 strike(K)= 100 :    Timer Call Option = 11.911598160097807\n",
      "vov(η)= 0.125 texp(T)= 4 rho(ρ)= 0 strike(K)= 100 :    Timer Call Option = 11.927983750467305\n",
      "vov(η)= 0.125 texp(T)= 4 rho(ρ)= 0 strike(K)= 100 :    Timer Call Option = 11.922700661086358\n"
     ]
    }
   ],
   "source": [
    "n_path = 200000\n",
    "dt = 1 / 100\n",
    "\n",
    "sigma, mr, spot, theta, intr = 0.09, 2, 100, 0.09, 0.00\n",
    "vol_budget = 0.09\n",
    "vov = 0.125\n",
    "rho = 0\n",
    "strike = 100\n",
    "# for texp in np.linspace(0.1, 5, 30):\n",
    "texp = 4\n",
    "\n",
    "m = pf.HestonMcAndersen2008(sigma, vov=vov, mr=mr, rho=rho, theta=theta, intr=intr)\n",
    "m.set_num_params(n_path=n_path, dt=dt, rn_seed=123456)\n",
    "\n",
    "# cp = 1  # Timer option--call option\n",
    "m2 = pf.Bsm(sigma=np.sqrt(vol_budget/texp), intr=intr)\n",
    "price_bsm = m2.price(strike=strike, spot=spot, texp=texp)\n",
    "print(\"BSM_price =\", price_bsm)\n",
    "\n",
    "# as for call option\n",
    "\n",
    "for i in range(10):\n",
    "    #  call_price_zero_corr[i][j][k] = timer_condmc.timeroption(vol_budget, model=m).price(spot=spot, strike=strike[j], texp=texp[i], cp=1, condmc=0)\n",
    "    print(\"vov(η)=\", vov, \"texp(T)=\", texp, \"rho(ρ)=\", rho, \"strike(K)=\", strike, \": \", \"  Timer Call Option =\",\\\n",
    "          timer_condmc.timeroption(vol_budget, model=m).price(spot=spot, strike=strike, texp=texp, cp=1))\n",
    "          "
   ]
  },
  {
   "cell_type": "code",
   "execution_count": 4,
   "metadata": {},
   "outputs": [
    {
     "name": "stdout",
     "output_type": "stream",
     "text": [
      "vov(η)= 0.125 texp(T)= 4 rho(ρ)= 0 strike(K)= 100 :    Timer Call Option = 11.935726664958853\n",
      "vov(η)= 0.125 texp(T)= 4 rho(ρ)= 0 strike(K)= 100 :    Timer Call Option = 11.93573726350696\n",
      "vov(η)= 0.125 texp(T)= 4 rho(ρ)= 0 strike(K)= 100 :    Timer Call Option = 11.935740673480774\n",
      "vov(η)= 0.125 texp(T)= 4 rho(ρ)= 0 strike(K)= 100 :    Timer Call Option = 11.93570981786467\n",
      "vov(η)= 0.125 texp(T)= 4 rho(ρ)= 0 strike(K)= 100 :    Timer Call Option = 11.93577022021528\n",
      "vov(η)= 0.125 texp(T)= 4 rho(ρ)= 0 strike(K)= 100 :    Timer Call Option = 11.935745242306055\n",
      "vov(η)= 0.125 texp(T)= 4 rho(ρ)= 0 strike(K)= 100 :    Timer Call Option = 11.935730377868863\n",
      "vov(η)= 0.125 texp(T)= 4 rho(ρ)= 0 strike(K)= 100 :    Timer Call Option = 11.935722068964509\n",
      "vov(η)= 0.125 texp(T)= 4 rho(ρ)= 0 strike(K)= 100 :    Timer Call Option = 11.935740046405725\n",
      "vov(η)= 0.125 texp(T)= 4 rho(ρ)= 0 strike(K)= 100 :    Timer Call Option = 11.935729560339404\n"
     ]
    }
   ],
   "source": [
    "for i in range(10):\n",
    "    #  call_price_zero_corr[i][j][k] = timer_condmc.timeroption(vol_budget, model=m).price(spot=spot, strike=strike[j], texp=texp[i], cp=1, condmc=0)\n",
    "    print(\"vov(η)=\", vov, \"texp(T)=\", texp, \"rho(ρ)=\", rho, \"strike(K)=\", strike, \": \", \"  Timer Call Option =\",\\\n",
    "          timer_condmc.timeroption(vol_budget, model=m).price(spot=spot, strike=strike, texp=texp, cp=1,condmc=1))"
   ]
  },
  {
   "cell_type": "code",
   "execution_count": null,
   "metadata": {},
   "outputs": [],
   "source": []
  }
 ],
 "metadata": {
  "kernelspec": {
   "display_name": "Python 3",
   "language": "python",
   "name": "python3"
  },
  "language_info": {
   "codemirror_mode": {
    "name": "ipython",
    "version": 3
   },
   "file_extension": ".py",
   "mimetype": "text/x-python",
   "name": "python",
   "nbconvert_exporter": "python",
   "pygments_lexer": "ipython3",
   "version": "3.7.6"
  }
 },
 "nbformat": 4,
 "nbformat_minor": 4
}
