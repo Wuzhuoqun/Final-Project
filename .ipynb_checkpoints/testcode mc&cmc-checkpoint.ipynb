{
 "cells": [
  {
   "cell_type": "code",
   "execution_count": 10,
   "metadata": {},
   "outputs": [],
   "source": [
    "import pyfeng as pf\n",
    "import timer_mc # the timer option model\n",
    "import numpy as np\n",
    "import pandas as pd\n",
    "import time\n",
    "\n",
    "n_path = 200000\n",
    "dt = 1 / 250\n",
    "\n",
    "sigma, mr, spot, theta, intr = 0.087, 2, 100, 0.09, 0.015\n",
    "vol_budget = 0.087  # Li M, Mercurio F (2015). Budget level is constant = 0.087\n",
    "\n",
    "vov = 0.125\n",
    "texp = 0.5\n",
    "rho = 0\n",
    "strike = 0\n",
    "m = pf.HestonMcAndersen2008(sigma, vov=vov, mr=mr, rho=rho, theta=theta, intr=intr)\n",
    "m.set_num_params(n_path=n_path, dt=dt, rn_seed=123456)"
   ]
  },
  {
   "cell_type": "code",
   "execution_count": 18,
   "metadata": {},
   "outputs": [
    {
     "ename": "AttributeError",
     "evalue": "'numpy.ndarray' object has no attribute 'DataFrame'",
     "output_type": "error",
     "traceback": [
      "\u001b[1;31m---------------------------------------------------------------------------\u001b[0m",
      "\u001b[1;31mAttributeError\u001b[0m                            Traceback (most recent call last)",
      "\u001b[1;32m<ipython-input-18-4696064fcc8e>\u001b[0m in \u001b[0;36m<module>\u001b[1;34m\u001b[0m\n\u001b[0;32m      1\u001b[0m \u001b[0mx\u001b[0m\u001b[1;33m=\u001b[0m\u001b[0mnp\u001b[0m\u001b[1;33m.\u001b[0m\u001b[0mzeros\u001b[0m\u001b[1;33m(\u001b[0m\u001b[1;33m[\u001b[0m\u001b[1;36m10\u001b[0m\u001b[1;33m,\u001b[0m\u001b[1;36m2\u001b[0m\u001b[1;33m]\u001b[0m\u001b[1;33m)\u001b[0m\u001b[1;33m\u001b[0m\u001b[1;33m\u001b[0m\u001b[0m\n\u001b[0;32m      2\u001b[0m \u001b[0mx\u001b[0m\u001b[1;33m\u001b[0m\u001b[1;33m\u001b[0m\u001b[0m\n\u001b[1;32m----> 3\u001b[1;33m \u001b[0mprint\u001b[0m\u001b[1;33m(\u001b[0m\u001b[0mx\u001b[0m\u001b[1;33m.\u001b[0m\u001b[0mDataFrame\u001b[0m\u001b[1;33m)\u001b[0m\u001b[1;33m\u001b[0m\u001b[1;33m\u001b[0m\u001b[0m\n\u001b[0m\u001b[0;32m      4\u001b[0m \u001b[1;31m# for i in range(10):\u001b[0m\u001b[1;33m\u001b[0m\u001b[1;33m\u001b[0m\u001b[1;33m\u001b[0m\u001b[0m\n\u001b[0;32m      5\u001b[0m \u001b[1;31m#     print(1,2)\u001b[0m\u001b[1;33m\u001b[0m\u001b[1;33m\u001b[0m\u001b[1;33m\u001b[0m\u001b[0m\n",
      "\u001b[1;31mAttributeError\u001b[0m: 'numpy.ndarray' object has no attribute 'DataFrame'"
     ]
    }
   ],
   "source": [
    "x=np.zeros([10,2])\n",
    "dx=\n",
    "print(x.DataFrame)\n",
    "# for i in range(10):\n",
    "#     print(1,2)"
   ]
  },
  {
   "cell_type": "code",
   "execution_count": 13,
   "metadata": {},
   "outputs": [],
   "source": [
    "n_path = 200000\n",
    "dt = 1 / 100\n",
    "\n",
    "sigma, mr, spot, theta, intr = 0.09, 2, 100, 0.09, 0.00\n",
    "vol_budget = 0.09\n",
    "vov = 0.125\n",
    "rho = 0\n",
    "strike = 100\n",
    "# for texp in np.linspace(0.1, 5, 30):\n",
    "texp = 4\n",
    "\n",
    "m = pf.HestonMcAndersen2008(sigma, vov=vov, mr=mr, rho=rho, theta=theta, intr=intr)\n",
    "m.set_num_params(n_path=n_path, dt=dt, rn_seed=123456)\n",
    "\n",
    "cp = 1  # Timer option--call option\n",
    "m2 = pf.Bsm(sigma=np.sqrt(vol_budget/texp), intr=intr)\n",
    "price_bsm = m2.price(strike=strike, spot=spot, texp=texp)\n",
    "print(\"BSM_price =\", price_bsm)"
   ]
  },
  {
   "cell_type": "code",
   "execution_count": 14,
   "metadata": {},
   "outputs": [],
   "source": [
    "# for i in range(10):\n",
    "#     print(\"vov(η)=\", vov, \"texp(T)=\", texp, \"rho(ρ)=\", rho, \"strike(K)=\", strike, \": \", \"  Timer Call Option =\",\\\n",
    "#           timer_mc.timeroption(vol_budget, model=m).price(spot=spot, strike=strike, texp=texp, cp=cp))"
   ]
  },
  {
   "cell_type": "code",
   "execution_count": null,
   "metadata": {},
   "outputs": [],
   "source": [
    "for i in range(10):\n",
    "    \n",
    "    x[i] = [timer_mc.timeroption(vol_budget, model=m).price(spot=spot, strike=strike, texp=texp, cp=cp,condmc=0),\\\n",
    "          timer_mc.timeroption(vol_budget, model=m).price(spot=spot, strike=strike, texp=texp, cp=cp,condmc=1)]\n",
    "dx = pd.DataFrame(x,columns=['Simple MC','Cond MC'])\n",
    "dx"
   ]
  },
  {
   "cell_type": "code",
   "execution_count": null,
   "metadata": {},
   "outputs": [],
   "source": []
  }
 ],
 "metadata": {
  "kernelspec": {
   "display_name": "Python 3",
   "language": "python",
   "name": "python3"
  },
  "language_info": {
   "codemirror_mode": {
    "name": "ipython",
    "version": 3
   },
   "file_extension": ".py",
   "mimetype": "text/x-python",
   "name": "python",
   "nbconvert_exporter": "python",
   "pygments_lexer": "ipython3",
   "version": "3.7.6"
  }
 },
 "nbformat": 4,
 "nbformat_minor": 4
}
