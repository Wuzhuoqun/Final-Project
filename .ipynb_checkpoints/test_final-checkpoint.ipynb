{
 "cells": [
  {
   "cell_type": "code",
   "execution_count": 1,
   "metadata": {},
   "outputs": [],
   "source": [
    "import pyfeng as pf\n",
    "import timer_condmc\n",
    "import time\n",
    "import numpy as np\n",
    "import pandas as pd"
   ]
  },
  {
   "cell_type": "code",
   "execution_count": 2,
   "metadata": {},
   "outputs": [],
   "source": [
    "start = time.time()\n",
    "\n",
    "n_path = 200000\n",
    "dt = 1 / 250\n",
    "\n",
    "sigma, mr, spot, theta, intr = 0.087, 2, 100, 0.09, 0.015\n",
    "vol_budget = 0.087  # Li M, Mercurio F (2015). Budget level is cons"
   ]
  },
  {
   "cell_type": "code",
   "execution_count": 3,
   "metadata": {},
   "outputs": [],
   "source": [
    "vov = np.array([0.125, 0.25, 0.375])\n",
    "texp = np.array([0.5, 1.0, 1.5, 2.0, 10.0])\n",
    "strike = np.array([90, 100, 110])"
   ]
  },
  {
   "cell_type": "code",
   "execution_count": 4,
   "metadata": {},
   "outputs": [],
   "source": [
    "call_price_zero_corr = put_price_zero_corr = np.zeros([5,3,3])"
   ]
  },
  {
   "cell_type": "code",
   "execution_count": 5,
   "metadata": {},
   "outputs": [],
   "source": [
    "call_price_nonzero_corr = put_price_nonzero_corr = np.zeros([3,2,3,3])"
   ]
  },
  {
   "cell_type": "markdown",
   "metadata": {},
   "source": [
    "For zero_corr call option:"
   ]
  },
  {
   "cell_type": "code",
   "execution_count": 7,
   "metadata": {},
   "outputs": [
    {
     "name": "stdout",
     "output_type": "stream",
     "text": [
      "T = 0.5:\n",
      "          η=0.125      0.250      0.375\n",
      "K1=90   14.341601  14.316911  14.269992\n",
      "K2=100   8.676474   8.633668   8.554525\n",
      "K3=110   4.885439   4.852417   4.790883\n",
      "\n",
      "\n",
      "T = 1.0:\n",
      "          η=0.125      0.250      0.375\n",
      "K1=90   17.351991  17.065325  16.760355\n",
      "K2=100  12.088967  11.754266  11.395724\n",
      "K3=110   8.172385   7.845616   7.492126\n",
      "\n",
      "\n",
      "T = 1.5:\n",
      "          η=0.125      0.250      0.375\n",
      "K1=90   17.625675  17.667184  17.576131\n",
      "K2=100  12.387818  12.417844  12.300753\n",
      "K3=110   8.463572   8.487829   8.361705\n",
      "\n",
      "\n",
      "T = 2.0:\n",
      "          η=0.125      0.250      0.375\n",
      "K1=90   17.625988  17.697626  17.750436\n",
      "K2=100  12.388078  12.451589  12.491661\n",
      "K3=110   8.463825   8.522222   8.547762\n",
      "\n",
      "\n",
      "T = 10.0:\n"
     ]
    },
    {
     "ename": "KeyboardInterrupt",
     "evalue": "",
     "output_type": "error",
     "traceback": [
      "\u001b[1;31m---------------------------------------------------------------------------\u001b[0m",
      "\u001b[1;31mKeyboardInterrupt\u001b[0m                         Traceback (most recent call last)",
      "\u001b[1;32m<ipython-input-7-e5fe9720037b>\u001b[0m in \u001b[0;36m<module>\u001b[1;34m\u001b[0m\n\u001b[0;32m      5\u001b[0m             \u001b[0mm\u001b[0m \u001b[1;33m=\u001b[0m \u001b[0mpf\u001b[0m\u001b[1;33m.\u001b[0m\u001b[0mHestonMcAndersen2008\u001b[0m\u001b[1;33m(\u001b[0m\u001b[0msigma\u001b[0m\u001b[1;33m,\u001b[0m \u001b[0mvov\u001b[0m\u001b[1;33m=\u001b[0m\u001b[0mvov\u001b[0m\u001b[1;33m[\u001b[0m\u001b[0mk\u001b[0m\u001b[1;33m]\u001b[0m\u001b[1;33m,\u001b[0m \u001b[0mmr\u001b[0m\u001b[1;33m=\u001b[0m\u001b[0mmr\u001b[0m\u001b[1;33m,\u001b[0m \u001b[0mrho\u001b[0m\u001b[1;33m=\u001b[0m\u001b[1;36m0\u001b[0m\u001b[1;33m,\u001b[0m \u001b[0mtheta\u001b[0m\u001b[1;33m=\u001b[0m\u001b[0mtheta\u001b[0m\u001b[1;33m,\u001b[0m \u001b[0mintr\u001b[0m\u001b[1;33m=\u001b[0m\u001b[0mintr\u001b[0m\u001b[1;33m)\u001b[0m\u001b[1;33m\u001b[0m\u001b[1;33m\u001b[0m\u001b[0m\n\u001b[0;32m      6\u001b[0m             \u001b[0mm\u001b[0m\u001b[1;33m.\u001b[0m\u001b[0mset_num_params\u001b[0m\u001b[1;33m(\u001b[0m\u001b[0mn_path\u001b[0m\u001b[1;33m=\u001b[0m\u001b[0mn_path\u001b[0m\u001b[1;33m,\u001b[0m \u001b[0mdt\u001b[0m\u001b[1;33m=\u001b[0m\u001b[0mdt\u001b[0m\u001b[1;33m,\u001b[0m \u001b[0mrn_seed\u001b[0m\u001b[1;33m=\u001b[0m\u001b[1;36m123456\u001b[0m\u001b[1;33m)\u001b[0m\u001b[1;33m\u001b[0m\u001b[1;33m\u001b[0m\u001b[0m\n\u001b[1;32m----> 7\u001b[1;33m             \u001b[0mcall_price_zero_corr\u001b[0m\u001b[1;33m[\u001b[0m\u001b[0mi\u001b[0m\u001b[1;33m]\u001b[0m\u001b[1;33m[\u001b[0m\u001b[0mj\u001b[0m\u001b[1;33m]\u001b[0m\u001b[1;33m[\u001b[0m\u001b[0mk\u001b[0m\u001b[1;33m]\u001b[0m \u001b[1;33m=\u001b[0m \u001b[0mtimer_condmc\u001b[0m\u001b[1;33m.\u001b[0m\u001b[0mtimeroption\u001b[0m\u001b[1;33m(\u001b[0m\u001b[0mvol_budget\u001b[0m\u001b[1;33m,\u001b[0m \u001b[0mmodel\u001b[0m\u001b[1;33m=\u001b[0m\u001b[0mm\u001b[0m\u001b[1;33m)\u001b[0m\u001b[1;33m.\u001b[0m\u001b[0mprice\u001b[0m\u001b[1;33m(\u001b[0m\u001b[0mspot\u001b[0m\u001b[1;33m=\u001b[0m\u001b[0mspot\u001b[0m\u001b[1;33m,\u001b[0m \u001b[0mstrike\u001b[0m\u001b[1;33m=\u001b[0m\u001b[0mstrike\u001b[0m\u001b[1;33m[\u001b[0m\u001b[0mj\u001b[0m\u001b[1;33m]\u001b[0m\u001b[1;33m,\u001b[0m \u001b[0mtexp\u001b[0m\u001b[1;33m=\u001b[0m\u001b[0mtexp\u001b[0m\u001b[1;33m[\u001b[0m\u001b[0mi\u001b[0m\u001b[1;33m]\u001b[0m\u001b[1;33m,\u001b[0m \u001b[0mcp\u001b[0m\u001b[1;33m=\u001b[0m\u001b[1;36m1\u001b[0m\u001b[1;33m,\u001b[0m \u001b[0mcondmc\u001b[0m\u001b[1;33m=\u001b[0m\u001b[1;36m0\u001b[0m\u001b[1;33m)\u001b[0m\u001b[1;33m\u001b[0m\u001b[1;33m\u001b[0m\u001b[0m\n\u001b[0m\u001b[0;32m      8\u001b[0m             \u001b[1;31m# call_price_zero_corr[i][j][k] = timer.timeroption(vol_budget, model=m).price(spot=spot, strike=strike[j], texp=texp[i], cp=cp)\u001b[0m\u001b[1;33m\u001b[0m\u001b[1;33m\u001b[0m\u001b[1;33m\u001b[0m\u001b[0m\n\u001b[0;32m      9\u001b[0m         \u001b[1;31m# print(call_price_zero_corr[i][j][:])\u001b[0m\u001b[1;33m\u001b[0m\u001b[1;33m\u001b[0m\u001b[1;33m\u001b[0m\u001b[0m\n",
      "\u001b[1;32mD:\\PHBS\\ASP2022-Module1-fall1\\Final-Project\\timer_condmc.py\u001b[0m in \u001b[0;36mprice\u001b[1;34m(self, spot, strike, texp, cp, condmc)\u001b[0m\n\u001b[0;32m     44\u001b[0m             \"\"\"\n\u001b[0;32m     45\u001b[0m             \u001b[1;32mfor\u001b[0m \u001b[0mi\u001b[0m \u001b[1;32min\u001b[0m \u001b[0mrange\u001b[0m\u001b[1;33m(\u001b[0m\u001b[0mn_dt\u001b[0m \u001b[1;33m-\u001b[0m \u001b[1;36m1\u001b[0m\u001b[1;33m)\u001b[0m\u001b[1;33m:\u001b[0m\u001b[1;33m\u001b[0m\u001b[1;33m\u001b[0m\u001b[0m\n\u001b[1;32m---> 46\u001b[1;33m                 \u001b[0mvar_t2\u001b[0m\u001b[1;33m,\u001b[0m \u001b[0mavgvar_inc\u001b[0m\u001b[1;33m,\u001b[0m \u001b[1;33m*\u001b[0m\u001b[0m_\u001b[0m \u001b[1;33m=\u001b[0m \u001b[0mself\u001b[0m\u001b[1;33m.\u001b[0m\u001b[0mmodel\u001b[0m\u001b[1;33m.\u001b[0m\u001b[0mcond_states_step\u001b[0m\u001b[1;33m(\u001b[0m\u001b[0mdt\u001b[0m\u001b[1;33m,\u001b[0m \u001b[0mvar_t1\u001b[0m\u001b[1;33m)\u001b[0m\u001b[1;33m\u001b[0m\u001b[1;33m\u001b[0m\u001b[0m\n\u001b[0m\u001b[0;32m     47\u001b[0m                 \u001b[0mlog_rt\u001b[0m \u001b[1;33m=\u001b[0m \u001b[0mself\u001b[0m\u001b[1;33m.\u001b[0m\u001b[0mmodel\u001b[0m\u001b[1;33m.\u001b[0m\u001b[0mdraw_log_return\u001b[0m\u001b[1;33m(\u001b[0m\u001b[0mdt\u001b[0m\u001b[1;33m,\u001b[0m \u001b[0mvar_t1\u001b[0m\u001b[1;33m,\u001b[0m \u001b[0mvar_t2\u001b[0m\u001b[1;33m,\u001b[0m \u001b[0mavgvar_inc\u001b[0m\u001b[1;33m)\u001b[0m\u001b[1;33m\u001b[0m\u001b[1;33m\u001b[0m\u001b[0m\n\u001b[0;32m     48\u001b[0m                 \u001b[0ms_t\u001b[0m \u001b[1;33m*=\u001b[0m \u001b[0mnp\u001b[0m\u001b[1;33m.\u001b[0m\u001b[0mexp\u001b[0m\u001b[1;33m(\u001b[0m\u001b[0mlog_rt\u001b[0m\u001b[1;33m)\u001b[0m\u001b[1;33m\u001b[0m\u001b[1;33m\u001b[0m\u001b[0m\n",
      "\u001b[1;32mD:\\anaconda\\lib\\site-packages\\pyfeng\\heston_mc.py\u001b[0m in \u001b[0;36mcond_states_step\u001b[1;34m(self, dt, var_0)\u001b[0m\n\u001b[0;32m    885\u001b[0m             \u001b[0mvar_t\u001b[0m\u001b[1;33m,\u001b[0m \u001b[0m_\u001b[0m \u001b[1;33m=\u001b[0m \u001b[0mself\u001b[0m\u001b[1;33m.\u001b[0m\u001b[0mvar_step_pois_gamma\u001b[0m\u001b[1;33m(\u001b[0m\u001b[0mdt\u001b[0m\u001b[1;33m,\u001b[0m \u001b[0mvar_0\u001b[0m\u001b[1;33m)\u001b[0m\u001b[1;33m\u001b[0m\u001b[1;33m\u001b[0m\u001b[0m\n\u001b[0;32m    886\u001b[0m         \u001b[1;32melif\u001b[0m \u001b[0mself\u001b[0m\u001b[1;33m.\u001b[0m\u001b[0mscheme\u001b[0m \u001b[1;33m==\u001b[0m \u001b[1;36m4\u001b[0m\u001b[1;33m:\u001b[0m\u001b[1;33m\u001b[0m\u001b[1;33m\u001b[0m\u001b[0m\n\u001b[1;32m--> 887\u001b[1;33m             \u001b[0mvar_t\u001b[0m\u001b[1;33m,\u001b[0m \u001b[0mm_corr\u001b[0m \u001b[1;33m=\u001b[0m \u001b[0mself\u001b[0m\u001b[1;33m.\u001b[0m\u001b[0mvar_step_qe\u001b[0m\u001b[1;33m(\u001b[0m\u001b[0mdt\u001b[0m\u001b[1;33m,\u001b[0m \u001b[0mvar_0\u001b[0m\u001b[1;33m)\u001b[0m\u001b[1;33m\u001b[0m\u001b[1;33m\u001b[0m\u001b[0m\n\u001b[0m\u001b[0;32m    888\u001b[0m             \u001b[0mextra\u001b[0m \u001b[1;33m=\u001b[0m \u001b[1;33m{\u001b[0m\u001b[1;34m'qe_m_corr'\u001b[0m\u001b[1;33m:\u001b[0m \u001b[0mm_corr\u001b[0m\u001b[1;33m}\u001b[0m\u001b[1;33m\u001b[0m\u001b[1;33m\u001b[0m\u001b[0m\n\u001b[0;32m    889\u001b[0m         \u001b[1;32melse\u001b[0m\u001b[1;33m:\u001b[0m\u001b[1;33m\u001b[0m\u001b[1;33m\u001b[0m\u001b[0m\n",
      "\u001b[1;32mD:\\anaconda\\lib\\site-packages\\pyfeng\\heston_mc.py\u001b[0m in \u001b[0;36mvar_step_qe\u001b[1;34m(self, dt, var_0)\u001b[0m\n\u001b[0;32m    838\u001b[0m \u001b[1;33m\u001b[0m\u001b[0m\n\u001b[0;32m    839\u001b[0m         \u001b[0mm_corr\u001b[0m \u001b[1;33m=\u001b[0m \u001b[1;33m-\u001b[0m\u001b[0mk1_half_k3\u001b[0m \u001b[1;33m*\u001b[0m \u001b[0mvar_0\u001b[0m \u001b[1;33m+\u001b[0m \u001b[0mdt\u001b[0m \u001b[1;33m*\u001b[0m \u001b[0mself\u001b[0m\u001b[1;33m.\u001b[0m\u001b[0mrho\u001b[0m \u001b[1;33m*\u001b[0m \u001b[0mself\u001b[0m\u001b[1;33m.\u001b[0m\u001b[0mmr\u001b[0m \u001b[1;33m*\u001b[0m \u001b[0mself\u001b[0m\u001b[1;33m.\u001b[0m\u001b[0mtheta\u001b[0m \u001b[1;33m/\u001b[0m \u001b[0mself\u001b[0m\u001b[1;33m.\u001b[0m\u001b[0mvov\u001b[0m\u001b[1;33m\u001b[0m\u001b[1;33m\u001b[0m\u001b[0m\n\u001b[1;32m--> 840\u001b[1;33m         \u001b[0mm_corr\u001b[0m\u001b[1;33m[\u001b[0m\u001b[0midx_below\u001b[0m\u001b[1;33m]\u001b[0m \u001b[1;33m+=\u001b[0m \u001b[1;33m-\u001b[0m\u001b[0maa\u001b[0m \u001b[1;33m*\u001b[0m \u001b[0mb2\u001b[0m \u001b[1;33m*\u001b[0m \u001b[0ma\u001b[0m \u001b[1;33m/\u001b[0m \u001b[1;33m(\u001b[0m\u001b[1;36m1\u001b[0m \u001b[1;33m-\u001b[0m \u001b[1;36m2\u001b[0m \u001b[1;33m*\u001b[0m \u001b[0maa\u001b[0m \u001b[1;33m*\u001b[0m \u001b[0ma\u001b[0m\u001b[1;33m)\u001b[0m \u001b[1;33m+\u001b[0m \u001b[1;36m0.5\u001b[0m \u001b[1;33m*\u001b[0m \u001b[0mnp\u001b[0m\u001b[1;33m.\u001b[0m\u001b[0mlog\u001b[0m\u001b[1;33m(\u001b[0m\u001b[1;36m1\u001b[0m \u001b[1;33m-\u001b[0m \u001b[1;36m2\u001b[0m \u001b[1;33m*\u001b[0m \u001b[0maa\u001b[0m \u001b[1;33m*\u001b[0m \u001b[0ma\u001b[0m\u001b[1;33m)\u001b[0m\u001b[1;33m\u001b[0m\u001b[1;33m\u001b[0m\u001b[0m\n\u001b[0m\u001b[0;32m    841\u001b[0m         \u001b[0mm_corr\u001b[0m\u001b[1;33m[\u001b[0m\u001b[1;33m~\u001b[0m\u001b[0midx_below\u001b[0m\u001b[1;33m]\u001b[0m \u001b[1;33m+=\u001b[0m \u001b[1;33m-\u001b[0m\u001b[0mnp\u001b[0m\u001b[1;33m.\u001b[0m\u001b[0mlog\u001b[0m\u001b[1;33m(\u001b[0m\u001b[1;36m1.0\u001b[0m \u001b[1;33m-\u001b[0m \u001b[0mone_m_p\u001b[0m \u001b[1;33m+\u001b[0m \u001b[1;33m(\u001b[0m\u001b[0mbeta\u001b[0m\u001b[1;33m*\u001b[0m\u001b[0mone_m_p\u001b[0m\u001b[1;33m)\u001b[0m\u001b[1;33m/\u001b[0m\u001b[1;33m(\u001b[0m\u001b[0mbeta\u001b[0m \u001b[1;33m-\u001b[0m \u001b[0maa\u001b[0m\u001b[1;33m)\u001b[0m\u001b[1;33m)\u001b[0m\u001b[1;33m\u001b[0m\u001b[1;33m\u001b[0m\u001b[0m\n\u001b[0;32m    842\u001b[0m \u001b[1;33m\u001b[0m\u001b[0m\n",
      "\u001b[1;31mKeyboardInterrupt\u001b[0m: "
     ]
    }
   ],
   "source": [
    "for i in range(len(texp)):\n",
    "    print('T = %s:' % texp[i])\n",
    "    for j in range(len(strike)):\n",
    "        for k in range(len(vov)):\n",
    "            m = pf.HestonMcAndersen2008(sigma, vov=vov[k], mr=mr, rho=0, theta=theta, intr=intr)\n",
    "            m.set_num_params(n_path=n_path, dt=dt, rn_seed=123456)\n",
    "            call_price_zero_corr[i][j][k] = timer_condmc.timeroption(vol_budget, model=m).price(spot=spot, strike=strike[j], texp=texp[i], cp=1, condmc=0)\n",
    "            # call_price_zero_corr[i][j][k] = timer.timeroption(vol_budget, model=m).price(spot=spot, strike=strike[j], texp=texp[i], cp=cp)\n",
    "        # print(call_price_zero_corr[i][j][:])\n",
    "    df_call_zero=pd.DataFrame(call_price_zero_corr[i][:][:],index=['K1=90','K2=100','K3=110'],columns=['η=0.125','0.250','0.375'])\n",
    "    print(df_call_zero)\n",
    "    print('\\n')"
   ]
  },
  {
   "cell_type": "code",
   "execution_count": 10,
   "metadata": {},
   "outputs": [
    {
     "name": "stdout",
     "output_type": "stream",
     "text": [
      "T = 0.5:\n",
      "          η=0.125      0.250      0.375\n",
      "K1=90    3.670498   3.643643   3.594205\n",
      "K2=100   7.930652   7.885684   7.804100\n",
      "K3=110  14.064897  14.029715  13.965821\n",
      "\n",
      "\n",
      "T = 1.0:\n",
      "          η=0.125      0.250      0.375\n",
      "K1=90    6.090343   5.816525   5.539276\n",
      "K2=100  10.686030  10.368600  10.040901\n",
      "K3=110  16.628158  16.323082  16.003559\n",
      "\n",
      "\n",
      "T = 1.5:\n",
      "          η=0.125      0.250      0.375\n",
      "K1=90    6.285951   6.238567   6.114059\n",
      "K2=100  10.899436  10.835242  10.680266\n",
      "K3=110  16.826531  16.751240  16.582803\n",
      "\n",
      "\n",
      "T = 2.0:\n",
      "          η=0.125      0.250      0.375\n",
      "K1=90    6.286178   6.259191   6.229599\n",
      "K2=100  10.899607  10.857972  10.806446\n",
      "K3=110  16.826693  16.773422  16.698170\n",
      "\n",
      "\n",
      "T = 10.0:\n",
      "          η=0.125      0.250      0.375\n",
      "K1=90    6.286178   6.259212   6.245490\n",
      "K2=100  10.899607  10.857996  10.823572\n",
      "K3=110  16.826693  16.773504  16.713810\n",
      "\n",
      "\n"
     ]
    }
   ],
   "source": [
    "for i in range(len(texp)):\n",
    "    print('T = %s:' % texp[i])\n",
    "    for j in range(len(strike)):\n",
    "        for k in range(len(vov)):\n",
    "            m = pf.HestonMcAndersen2008(sigma, vov=vov[k], mr=mr, rho=0, theta=theta, intr=intr)\n",
    "            m.set_num_params(n_path=n_path, dt=dt, rn_seed=123456)\n",
    "            call_price_zero_corr[i][j][k] = timer_condmc.timeroption(vol_budget, model=m).price(spot=spot, strike=strike[j], texp=texp[i], cp=-1, condmc=0)\n",
    "        # print(call_price_zero_corr[i][j][:])\n",
    "    df_call_zero=pd.DataFrame(call_price_zero_corr[i][:][:],index=['K1=90','K2=100','K3=110'],columns=['η=0.125','0.250','0.375'])\n",
    "    print(df_call_zero)\n",
    "    print('\\n')"
   ]
  },
  {
   "cell_type": "code",
   "execution_count": null,
   "metadata": {},
   "outputs": [],
   "source": []
  }
 ],
 "metadata": {
  "kernelspec": {
   "display_name": "Python 3",
   "language": "python",
   "name": "python3"
  },
  "language_info": {
   "codemirror_mode": {
    "name": "ipython",
    "version": 3
   },
   "file_extension": ".py",
   "mimetype": "text/x-python",
   "name": "python",
   "nbconvert_exporter": "python",
   "pygments_lexer": "ipython3",
   "version": "3.7.6"
  }
 },
 "nbformat": 4,
 "nbformat_minor": 4
}
