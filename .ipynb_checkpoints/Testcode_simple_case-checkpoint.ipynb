{
 "cells": [
  {
   "cell_type": "code",
   "execution_count": null,
   "metadata": {},
   "outputs": [],
   "source": [
    "import pyfeng as pf\n",
    "import numpy as np\n",
    "import timer\n",
    "\n",
    "n_path = 200000\n",
    "dt = 1 / 100\n",
    "\n",
    "sigma, mr, spot, theta, intr = 0.09, 2, 100, 0.09, 0.00\n",
    "vol_budget = 0.09\n",
    "vov = 0.125\n",
    "rho = 0\n",
    "strike = 100"
   ]
  },
  {
   "cell_type": "code",
   "execution_count": null,
   "metadata": {},
   "outputs": [],
   "source": [
    "# import pyfeng as pf\n",
    "# import numpy as np\n",
    "# import timer\n",
    "\n",
    "# n_path = 200000\n",
    "# dt = 1 / 100\n",
    "\n",
    "# sigma, mr, spot, theta, intr = 0.09, 2, 100, 0.09, 0.00\n",
    "# vol_budget = 0.09\n",
    "# vov = 0.125\n",
    "# rho = 0\n",
    "# strike = 100\n",
    "# # for texp in np.linspace(0.1, 5, 30):\n",
    "# texp = 4\n",
    "\n",
    "# m = pf.HestonMcAndersen2008(sigma, vov=vov, mr=mr, rho=rho, theta=theta, intr=intr)\n",
    "# m.set_num_params(n_path=n_path, dt=dt, rn_seed=123456)\n",
    "\n",
    "# cp = 1  # Timer option--call option\n",
    "# m2 = pf.Bsm(sigma=np.sqrt(vol_budget/texp), intr=intr)\n",
    "# price_bsm = m2.price(strike=strike, spot=spot, texp=texp)\n",
    "# print(\"BSM_price =\", price_bsm)\n",
    "\n",
    "# for i in range(10):\n",
    "#     print(\"vov(η)=\", vov, \"texp(T)=\", texp, \"rho(ρ)=\", rho, \"strike(K)=\", strike, \": \", \"  Timer Call Option =\",\\\n",
    "#           timer.timeroption(vol_budget, model=m).price(spot=spot, strike=strike, texp=texp, cp=cp))\n",
    "\n"
   ]
  }
 ],
 "metadata": {
  "kernelspec": {
   "display_name": "Python 3",
   "language": "python",
   "name": "python3"
  },
  "language_info": {
   "codemirror_mode": {
    "name": "ipython",
    "version": 3
   },
   "file_extension": ".py",
   "mimetype": "text/x-python",
   "name": "python",
   "nbconvert_exporter": "python",
   "pygments_lexer": "ipython3",
   "version": "3.7.6"
  }
 },
 "nbformat": 4,
 "nbformat_minor": 4
}
