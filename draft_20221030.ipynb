{
 "cells": [
  {
   "cell_type": "code",
   "execution_count": 1,
   "metadata": {},
   "outputs": [],
   "source": [
    "import numpy as np"
   ]
  },
  {
   "cell_type": "code",
   "execution_count": 2,
   "metadata": {
    "scrolled": true
   },
   "outputs": [
    {
     "ename": "SyntaxError",
     "evalue": "invalid syntax (<ipython-input-2-a3cbf5855547>, line 2)",
     "output_type": "error",
     "traceback": [
      "\u001b[1;36m  File \u001b[1;32m\"<ipython-input-2-a3cbf5855547>\"\u001b[1;36m, line \u001b[1;32m2\u001b[0m\n\u001b[1;33m    2\u001b[0m\n\u001b[1;37m    ^\u001b[0m\n\u001b[1;31mSyntaxError\u001b[0m\u001b[1;31m:\u001b[0m invalid syntax\n"
     ]
    }
   ],
   "source": [
    "a=np.array[1\n",
    "2\n",
    "3\n",
    "4\n",
    "5\n",
    "6\n",
    "7\n",
    "]\n",
    "a"
   ]
  },
  {
   "cell_type": "markdown",
   "metadata": {},
   "source": []
  },
  {
   "cell_type": "code",
   "execution_count": 49,
   "metadata": {},
   "outputs": [],
   "source": [
    "import numpy as np\n",
    "import pandas as pd\n",
    "import pyfeng as pf\n",
    "\n",
    "import timer\n",
    "# from tqdm import tqdm"
   ]
  },
  {
   "cell_type": "code",
   "execution_count": null,
   "metadata": {},
   "outputs": [],
   "source": [
    "# # Van (2010)\n",
    "# strike = [100.0, 140.0, 60.0]\n",
    "# forward = 100\n",
    "# delta = [1, 1/2, 1/4, 1/8, 1/16, 1/32]\n",
    "# case = np.zeros([3, 7])\n",
    "# #case[i]=[vov, kappa, rho, texp, theta,   sigma,    r]\n",
    "# case[0] = [1,   0.5, -0.9, 10, 0.04, np.sqrt(0.04), 0]\n",
    "# case[1] = [1,   1,   -0.3, 5,  0.09, np.sqrt(0.09), 0.05]\n",
    "# case[2] = [0.9, 0.3, -0.5, 15, 0.04, np.sqrt(0.04), 0]\n",
    "# ref_price = np.array([[13.085, 0.296, 44.330], [33.597, 18.157, 56.575], [16.649, 5.138, 45.287]])"
   ]
  },
  {
   "cell_type": "code",
   "execution_count": 54,
   "metadata": {},
   "outputs": [],
   "source": [
    "vov = np.array([0.125, 0.250, 0.375])\n",
    "strike = np.array([90, 100, 110])\n",
    "rho=0\n",
    "#texp = [0.5,1.0,1.5,2.0,10.0]\n",
    "\n",
    "texp = np.array([0.5,1.0,1.5,2.0,10.0])\n",
    "\n",
    "# sigma, mr, spot, theta, intr = 0.087, 2, 100, 0.09, 0.015 are constant\n",
    "n_path = 200000\n",
    "dt = 1 / 250\n",
    "sigma, mr, spot, theta, intr = 0.087, 2, 100, 0.09, 0.015\n",
    "vol_budget = 0.087"
   ]
  },
  {
   "cell_type": "code",
   "execution_count": null,
   "metadata": {},
   "outputs": [],
   "source": [
    "# for vov in [0.125, 0.25, 0.375]:\n",
    "#     for texp in [0.5, 1.0, 1.5, 2.0, 10.0]:\n",
    "#         for rho in [0]:\n",
    "#             for strike in [90, 100, 110]:\n",
    "#                 m = pf.HestonMcAndersen2008(sigma, vov=vov, mr=mr, rho=rho, theta=theta, intr=intr)\n",
    "#                 m.set_num_params(n_path=n_path, dt=dt, rn_seed=123456)\n",
    "\n",
    "#                 cp = 1  # Timer option--call option\n",
    "#                 print(\"vov(η)=\", vov, \"texp(T)=\", texp, \"rho(ρ)=\", rho, \"strike(K)=\", strike, \": \", \\\n",
    "#                       timer.timeroption(vol_budget, model=m).price(spot=spot, strike=strike, texp=texp, cp=cp))\n"
   ]
  },
  {
   "cell_type": "code",
   "execution_count": null,
   "metadata": {},
   "outputs": [],
   "source": [
    "# # Compare with QE-M method result given by Van (2010)\n",
    "# i = 0\n",
    "# vov, kappa, rho, texp, theta, sigma, r = case[i]\n",
    "# price_cmc = pd.DataFrame(np.zeros([len(delta), len(strike)]), index=delta, columns=strike)\n",
    "# bias_cmc = pd.DataFrame(np.zeros(price_cmc.shape), index=price_cmc.index, columns=price_cmc.columns)\n",
    "\n",
    "# start = time.time()\n",
    "# heston_cmc_qe = pf.HestonCondMcQE(vov=vov, kappa=kappa, rho=rho, theta=theta)\n",
    "\n",
    "# for d in range(len(delta)):\n",
    "#     price_cmc.iloc[d, :] = heston_cmc_qe.price(strike, forward, texp, sigma=sigma, delta=delta[d], intr=r, path=1e6, seed=123456)\n",
    "#     bias_cmc.iloc[d, :] = price_cmc.iloc[d, :] - ref_price[i, :]\n",
    "\n",
    "# end = time.time()\n",
    "\n",
    "# np.set_printoptions(suppress=True)\n",
    "# print('Case %s:\\n' % i + 'price')\n",
    "# print(price_cmc)\n",
    "# print('bias')\n",
    "# print(bias_cmc)\n",
    "# print('Running time is %.3f seconds.' % (end - start) + '\\n')"
   ]
  },
  {
   "cell_type": "code",
   "execution_count": 57,
   "metadata": {
    "scrolled": false
   },
   "outputs": [
    {
     "ename": "TypeError",
     "evalue": "only size-1 arrays can be converted to Python scalars",
     "output_type": "error",
     "traceback": [
      "\u001b[1;31m---------------------------------------------------------------------------\u001b[0m",
      "\u001b[1;31mTypeError\u001b[0m                                 Traceback (most recent call last)",
      "\u001b[1;32m<ipython-input-57-bdd055873fed>\u001b[0m in \u001b[0;36m<module>\u001b[1;34m\u001b[0m\n\u001b[0;32m      7\u001b[0m     \u001b[0mm\u001b[0m \u001b[1;33m=\u001b[0m \u001b[0mpf\u001b[0m\u001b[1;33m.\u001b[0m\u001b[0mHestonMcAndersen2008\u001b[0m\u001b[1;33m(\u001b[0m\u001b[0msigma\u001b[0m\u001b[1;33m,\u001b[0m \u001b[0mvov\u001b[0m\u001b[1;33m=\u001b[0m\u001b[0mvov\u001b[0m\u001b[1;33m,\u001b[0m \u001b[0mmr\u001b[0m\u001b[1;33m=\u001b[0m\u001b[0mmr\u001b[0m\u001b[1;33m,\u001b[0m \u001b[0mrho\u001b[0m\u001b[1;33m=\u001b[0m\u001b[0mrho\u001b[0m\u001b[1;33m,\u001b[0m \u001b[0mtheta\u001b[0m\u001b[1;33m=\u001b[0m\u001b[0mtheta\u001b[0m\u001b[1;33m,\u001b[0m \u001b[0mintr\u001b[0m\u001b[1;33m=\u001b[0m\u001b[0mintr\u001b[0m\u001b[1;33m)\u001b[0m\u001b[1;33m\u001b[0m\u001b[1;33m\u001b[0m\u001b[0m\n\u001b[0;32m      8\u001b[0m \u001b[1;31m#     price_heston_mc[d, :] = timer.timeroption(vol_budget, model=m).price(spot=spot, strike=strike[d], texp=0.5, cp=1)\u001b[0m\u001b[1;33m\u001b[0m\u001b[1;33m\u001b[0m\u001b[1;33m\u001b[0m\u001b[0m\n\u001b[1;32m----> 9\u001b[1;33m \u001b[0mprint\u001b[0m\u001b[1;33m(\u001b[0m\u001b[0mtimer\u001b[0m\u001b[1;33m.\u001b[0m\u001b[0mtimeroption\u001b[0m\u001b[1;33m(\u001b[0m\u001b[0mvol_budget\u001b[0m\u001b[1;33m,\u001b[0m \u001b[0mmodel\u001b[0m\u001b[1;33m=\u001b[0m\u001b[0mm\u001b[0m\u001b[1;33m)\u001b[0m\u001b[1;33m.\u001b[0m\u001b[0mprice\u001b[0m\u001b[1;33m(\u001b[0m\u001b[0mspot\u001b[0m\u001b[1;33m=\u001b[0m\u001b[0mspot\u001b[0m\u001b[1;33m,\u001b[0m \u001b[0mstrike\u001b[0m\u001b[1;33m=\u001b[0m\u001b[0mstrike\u001b[0m\u001b[1;33m[\u001b[0m\u001b[0md\u001b[0m\u001b[1;33m]\u001b[0m\u001b[1;33m,\u001b[0m \u001b[0mtexp\u001b[0m\u001b[1;33m=\u001b[0m\u001b[0mtexp\u001b[0m\u001b[1;33m,\u001b[0m \u001b[0mcp\u001b[0m\u001b[1;33m=\u001b[0m\u001b[1;36m1\u001b[0m\u001b[1;33m)\u001b[0m\u001b[1;33m)\u001b[0m\u001b[1;33m\u001b[0m\u001b[1;33m\u001b[0m\u001b[0m\n\u001b[0m",
      "\u001b[1;32mD:\\PHBS\\ASP2022-Module1-fall1\\20221029 project\\timer.py\u001b[0m in \u001b[0;36mprice\u001b[1;34m(self, spot, strike, texp, cp)\u001b[0m\n\u001b[0;32m     28\u001b[0m             \u001b[0mTimer\u001b[0m \u001b[0moption\u001b[0m \u001b[0mprice\u001b[0m\u001b[1;33m\u001b[0m\u001b[1;33m\u001b[0m\u001b[0m\n\u001b[0;32m     29\u001b[0m         \"\"\"\n\u001b[1;32m---> 30\u001b[1;33m         \u001b[0mn_dt\u001b[0m \u001b[1;33m=\u001b[0m \u001b[0mint\u001b[0m\u001b[1;33m(\u001b[0m\u001b[0mtexp\u001b[0m\u001b[1;33m/\u001b[0m\u001b[0mself\u001b[0m\u001b[1;33m.\u001b[0m\u001b[0mdt\u001b[0m\u001b[1;33m)\u001b[0m\u001b[1;33m\u001b[0m\u001b[1;33m\u001b[0m\u001b[0m\n\u001b[0m\u001b[0;32m     31\u001b[0m         \u001b[0mdt\u001b[0m \u001b[1;33m=\u001b[0m \u001b[0mtexp\u001b[0m \u001b[1;33m/\u001b[0m \u001b[0mn_dt\u001b[0m\u001b[1;33m\u001b[0m\u001b[1;33m\u001b[0m\u001b[0m\n\u001b[0;32m     32\u001b[0m \u001b[1;33m\u001b[0m\u001b[0m\n",
      "\u001b[1;31mTypeError\u001b[0m: only size-1 arrays can be converted to Python scalars"
     ]
    }
   ],
   "source": [
    "price_heston_mc = pd.DataFrame(np.zeros([len(strike), len(vov)]), index=strike, columns=vov)\n",
    "m = pf.HestonMcAndersen2008(sigma, vov=vov, mr=mr, rho=rho, theta=theta, intr=intr)\n",
    "m.set_num_params(n_path=n_path, dt=dt, rn_seed=123456)\n",
    "# m.set_num_params(n_path=n_path, dt=dt, rn_seed=123456)\n",
    "# heston_mc_qe = timer.timeroption(vol_budget, model=m).price(spot=spot, strike=strike, texp=0.5, cp=1)\n",
    "for d in range(len(strike)):\n",
    "    m = pf.HestonMcAndersen2008(sigma, vov=vov, mr=mr, rho=rho, theta=theta, intr=intr)\n",
    "#     price_heston_mc[d, :] = timer.timeroption(vol_budget, model=m).price(spot=spot, strike=strike[d], texp=0.5, cp=1)\n",
    "print(timer.timeroption(vol_budget, model=m).price(spot=spot, strike=strike[d], texp=texp, cp=1))    "
   ]
  },
  {
   "cell_type": "code",
   "execution_count": null,
   "metadata": {},
   "outputs": [],
   "source": []
  },
  {
   "cell_type": "code",
   "execution_count": null,
   "metadata": {},
   "outputs": [],
   "source": []
  },
  {
   "cell_type": "code",
   "execution_count": null,
   "metadata": {},
   "outputs": [],
   "source": []
  },
  {
   "cell_type": "code",
   "execution_count": null,
   "metadata": {},
   "outputs": [],
   "source": []
  },
  {
   "cell_type": "code",
   "execution_count": null,
   "metadata": {},
   "outputs": [],
   "source": []
  },
  {
   "cell_type": "code",
   "execution_count": null,
   "metadata": {},
   "outputs": [],
   "source": [
    "vov = [0.125, 0.250, 0.375]\n",
    "srike = [90, 100, 110]"
   ]
  },
  {
   "cell_type": "code",
   "execution_count": 23,
   "metadata": {},
   "outputs": [
    {
     "name": "stdout",
     "output_type": "stream",
     "text": [
      "['14.3500', '8.6894', '4.8901', '17.3649', '12.1038', '8.1919', '17.6275', '12.3945', '8.4784', '17.6277', '12.3947', '8.4786', '17.6278', '12.3948', '8.4786']\n"
     ]
    }
   ],
   "source": [
    "x=\"\"\"14.3500\n",
    "8.6894\n",
    "4.8901\n",
    "17.3649\n",
    "12.1038\n",
    "8.1919\n",
    "17.6275\n",
    "12.3945\n",
    "8.4784\n",
    "17.6277\n",
    "12.3947\n",
    "8.4786\n",
    "17.6278\n",
    "12.3948\n",
    "8.4786\"\"\"\n",
    "s=x.split('\\n')\n",
    "print(s)"
   ]
  },
  {
   "cell_type": "code",
   "execution_count": 31,
   "metadata": {},
   "outputs": [
    {
     "data": {
      "text/plain": [
       "(array(['14.3500', '8.6894', '4.8901', '17.3649', '12.1038', '8.1919',\n",
       "        '17.6275', '12.3945', '8.4784', '17.6277', '12.3947', '8.4786',\n",
       "        '17.6278', '12.3948', '8.4786'], dtype='<U7'),\n",
       " array([14.35  ,  8.6894,  4.8901, 17.3649, 12.1038,  8.1919, 17.6275,\n",
       "        12.3945,  8.4784, 17.6277, 12.3947,  8.4786, 17.6278, 12.3948,\n",
       "         8.4786]))"
      ]
     },
     "execution_count": 31,
     "metadata": {},
     "output_type": "execute_result"
    }
   ],
   "source": [
    "s_new=np.array(s)\n",
    "ss_new = s_new.astype(float)\n",
    "s_new,ss_new"
   ]
  },
  {
   "cell_type": "code",
   "execution_count": 24,
   "metadata": {},
   "outputs": [
    {
     "ename": "ValueError",
     "evalue": "could not convert string to float: '.'",
     "output_type": "error",
     "traceback": [
      "\u001b[1;31m---------------------------------------------------------------------------\u001b[0m",
      "\u001b[1;31mValueError\u001b[0m                                Traceback (most recent call last)",
      "\u001b[1;32m<ipython-input-24-4607547559b3>\u001b[0m in \u001b[0;36m<module>\u001b[1;34m\u001b[0m\n\u001b[0;32m      2\u001b[0m \u001b[1;32mfor\u001b[0m \u001b[0mi\u001b[0m \u001b[1;32min\u001b[0m \u001b[0mrange\u001b[0m\u001b[1;33m(\u001b[0m\u001b[0mlen\u001b[0m\u001b[1;33m(\u001b[0m\u001b[0ms\u001b[0m\u001b[1;33m)\u001b[0m\u001b[1;33m)\u001b[0m\u001b[1;33m:\u001b[0m\u001b[1;33m\u001b[0m\u001b[1;33m\u001b[0m\u001b[0m\n\u001b[0;32m      3\u001b[0m     \u001b[1;32mfor\u001b[0m \u001b[0mnum\u001b[0m \u001b[1;32min\u001b[0m \u001b[0ms\u001b[0m\u001b[1;33m[\u001b[0m\u001b[0mi\u001b[0m\u001b[1;33m]\u001b[0m\u001b[1;33m:\u001b[0m\u001b[1;33m\u001b[0m\u001b[1;33m\u001b[0m\u001b[0m\n\u001b[1;32m----> 4\u001b[1;33m         \u001b[0mnew_s\u001b[0m\u001b[1;33m.\u001b[0m\u001b[0mappend\u001b[0m\u001b[1;33m(\u001b[0m\u001b[0mfloat\u001b[0m\u001b[1;33m(\u001b[0m\u001b[0mnum\u001b[0m\u001b[1;33m)\u001b[0m\u001b[1;33m)\u001b[0m\u001b[1;33m\u001b[0m\u001b[1;33m\u001b[0m\u001b[0m\n\u001b[0m\u001b[0;32m      5\u001b[0m \u001b[0mprint\u001b[0m\u001b[1;33m(\u001b[0m\u001b[0mnew_s\u001b[0m\u001b[1;33m)\u001b[0m\u001b[1;33m\u001b[0m\u001b[1;33m\u001b[0m\u001b[0m\n",
      "\u001b[1;31mValueError\u001b[0m: could not convert string to float: '.'"
     ]
    }
   ],
   "source": [
    "new_s=[]\n",
    "for i in range(len(s)):\n",
    "    for num in s[i]:\n",
    "        new_s.append(float(num))\n",
    "print(new_s)"
   ]
  },
  {
   "cell_type": "code",
   "execution_count": null,
   "metadata": {},
   "outputs": [],
   "source": [
    "# Compare with QE-M method result given by Van (2010)\n",
    "i = 0\n",
    "vov, kappa, rho, texp, theta, sigma, r = case[i]\n",
    "price_cmc = pd.DataFrame(np.zeros([len(delta), len(strike)]), index=delta, columns=strike)\n",
    "bias_cmc = pd.DataFrame(np.zeros(price_cmc.shape), index=price_cmc.index, columns=price_cmc.columns)\n",
    "\n",
    "start = time.time()\n",
    "heston_cmc_qe = pf.HestonCondMcQE(vov=vov, kappa=kappa, rho=rho, theta=theta)\n",
    "\n",
    "for d in range(len(delta)):\n",
    "    price_cmc.iloc[d, :] = heston_cmc_qe.price(strike, forward, texp, sigma=sigma, delta=delta[d], intr=r, path=1e6, seed=123456)\n",
    "    bias_cmc.iloc[d, :] = price_cmc.iloc[d, :] - ref_price[i, :]\n",
    "\n",
    "end = time.time()\n",
    "\n",
    "np.set_printoptions(suppress=True)\n",
    "print('Case %s:\\n' % i + 'price')\n",
    "print(price_cmc)\n",
    "print('bias')\n",
    "print(bias_cmc)\n",
    "print('Running time is %.3f seconds.' % (end - start) + '\\n')"
   ]
  },
  {
   "cell_type": "code",
   "execution_count": 17,
   "metadata": {},
   "outputs": [],
   "source": [
    "import matplotlib.pyplot as plt  #画图用\n",
    "import numpy as np\n",
    "import matplotlib\n",
    "import xlrd  \t\t\t\t#读Excel数据用"
   ]
  },
  {
   "cell_type": "code",
   "execution_count": 75,
   "metadata": {
    "scrolled": true
   },
   "outputs": [
    {
     "data": {
      "text/plain": [
       "array([[[0., 0., 0.],\n",
       "        [0., 0., 0.],\n",
       "        [0., 0., 0.]],\n",
       "\n",
       "       [[0., 0., 0.],\n",
       "        [0., 0., 0.],\n",
       "        [0., 0., 0.]],\n",
       "\n",
       "       [[0., 0., 0.],\n",
       "        [0., 0., 0.],\n",
       "        [0., 0., 0.]],\n",
       "\n",
       "       [[0., 0., 0.],\n",
       "        [0., 0., 0.],\n",
       "        [0., 0., 0.]],\n",
       "\n",
       "       [[0., 0., 0.],\n",
       "        [0., 0., 0.],\n",
       "        [0., 0., 0.]]])"
      ]
     },
     "execution_count": 75,
     "metadata": {},
     "output_type": "execute_result"
    }
   ],
   "source": [
    "# 试验维度\n",
    "x = np.zeros([5,3,3]) #第一个5是T/texp的取值维度，第二个3是K/strike的取值维度，第三个3是vov的取值维度\n",
    "x"
   ]
  },
  {
   "cell_type": "code",
   "execution_count": 119,
   "metadata": {},
   "outputs": [
    {
     "name": "stdout",
     "output_type": "stream",
     "text": [
      "T = 0:\n",
      "ρ= 0:\n",
      "     0    1    2\n",
      "0  0.0  1.0  2.0\n",
      "1  1.0  2.0  3.0\n",
      "2  2.0  3.0  4.0\n",
      "\n",
      "\n",
      "ρ= 1:\n",
      "     0    1    2\n",
      "0  1.0  2.0  3.0\n",
      "1  2.0  3.0  4.0\n",
      "2  3.0  4.0  5.0\n",
      "\n",
      "\n",
      "T = 1:\n",
      "ρ= 0:\n",
      "     0    1    2\n",
      "0  1.0  2.0  3.0\n",
      "1  2.0  3.0  4.0\n",
      "2  3.0  4.0  5.0\n",
      "\n",
      "\n",
      "ρ= 1:\n",
      "     0    1    2\n",
      "0  2.0  3.0  4.0\n",
      "1  3.0  4.0  5.0\n",
      "2  4.0  5.0  6.0\n",
      "\n",
      "\n",
      "T = 2:\n",
      "ρ= 0:\n",
      "     0    1    2\n",
      "0  2.0  3.0  4.0\n",
      "1  3.0  4.0  5.0\n",
      "2  4.0  5.0  6.0\n",
      "\n",
      "\n",
      "ρ= 1:\n",
      "     0    1    2\n",
      "0  3.0  4.0  5.0\n",
      "1  4.0  5.0  6.0\n",
      "2  5.0  6.0  7.0\n",
      "\n",
      "\n"
     ]
    }
   ],
   "source": [
    "# 试验\n",
    "z = np.zeros([3,2,3,3])\n",
    "for i in range(3):\n",
    "    print('T = %s:' % i)\n",
    "    for j in range(2):\n",
    "        print('ρ= %s:' % j)\n",
    "        for k in range(3):\n",
    "            for l in range(3):\n",
    "                z[i][j][k][l] = i+j+k+l\n",
    "        print(pd.DataFrame(z[i][j][:][:]))\n",
    "#             print(z[i][j][k][:])\n",
    "\n",
    "        print('\\n')"
   ]
  },
  {
   "cell_type": "code",
   "execution_count": 124,
   "metadata": {},
   "outputs": [
    {
     "ename": "ValueError",
     "evalue": "Must pass 2-d input",
     "output_type": "error",
     "traceback": [
      "\u001b[1;31m---------------------------------------------------------------------------\u001b[0m",
      "\u001b[1;31mValueError\u001b[0m                                Traceback (most recent call last)",
      "\u001b[1;32m<ipython-input-124-c2aedd32f814>\u001b[0m in \u001b[0;36m<module>\u001b[1;34m\u001b[0m\n\u001b[0;32m      1\u001b[0m \u001b[0mz\u001b[0m \u001b[1;33m=\u001b[0m \u001b[0mnp\u001b[0m\u001b[1;33m.\u001b[0m\u001b[0mzeros\u001b[0m\u001b[1;33m(\u001b[0m\u001b[1;33m[\u001b[0m\u001b[1;36m3\u001b[0m\u001b[1;33m,\u001b[0m\u001b[1;36m2\u001b[0m\u001b[1;33m,\u001b[0m\u001b[1;36m2\u001b[0m\u001b[1;33m]\u001b[0m\u001b[1;33m)\u001b[0m\u001b[1;33m\u001b[0m\u001b[1;33m\u001b[0m\u001b[0m\n\u001b[0;32m      2\u001b[0m \u001b[0mz\u001b[0m\u001b[1;33m\u001b[0m\u001b[1;33m\u001b[0m\u001b[0m\n\u001b[1;32m----> 3\u001b[1;33m \u001b[0mdz\u001b[0m\u001b[1;33m=\u001b[0m\u001b[0mpd\u001b[0m\u001b[1;33m.\u001b[0m\u001b[0mDataFrame\u001b[0m\u001b[1;33m(\u001b[0m\u001b[0mz\u001b[0m\u001b[1;33m)\u001b[0m\u001b[1;33m\u001b[0m\u001b[1;33m\u001b[0m\u001b[0m\n\u001b[0m\u001b[0;32m      4\u001b[0m \u001b[0mdz\u001b[0m\u001b[1;33m\u001b[0m\u001b[1;33m\u001b[0m\u001b[0m\n",
      "\u001b[1;32mD:\\anaconda\\lib\\site-packages\\pandas\\core\\frame.py\u001b[0m in \u001b[0;36m__init__\u001b[1;34m(self, data, index, columns, dtype, copy)\u001b[0m\n\u001b[0;32m    462\u001b[0m                 \u001b[0mmgr\u001b[0m \u001b[1;33m=\u001b[0m \u001b[0minit_dict\u001b[0m\u001b[1;33m(\u001b[0m\u001b[1;33m{\u001b[0m\u001b[0mdata\u001b[0m\u001b[1;33m.\u001b[0m\u001b[0mname\u001b[0m\u001b[1;33m:\u001b[0m \u001b[0mdata\u001b[0m\u001b[1;33m}\u001b[0m\u001b[1;33m,\u001b[0m \u001b[0mindex\u001b[0m\u001b[1;33m,\u001b[0m \u001b[0mcolumns\u001b[0m\u001b[1;33m,\u001b[0m \u001b[0mdtype\u001b[0m\u001b[1;33m=\u001b[0m\u001b[0mdtype\u001b[0m\u001b[1;33m)\u001b[0m\u001b[1;33m\u001b[0m\u001b[1;33m\u001b[0m\u001b[0m\n\u001b[0;32m    463\u001b[0m             \u001b[1;32melse\u001b[0m\u001b[1;33m:\u001b[0m\u001b[1;33m\u001b[0m\u001b[1;33m\u001b[0m\u001b[0m\n\u001b[1;32m--> 464\u001b[1;33m                 \u001b[0mmgr\u001b[0m \u001b[1;33m=\u001b[0m \u001b[0minit_ndarray\u001b[0m\u001b[1;33m(\u001b[0m\u001b[0mdata\u001b[0m\u001b[1;33m,\u001b[0m \u001b[0mindex\u001b[0m\u001b[1;33m,\u001b[0m \u001b[0mcolumns\u001b[0m\u001b[1;33m,\u001b[0m \u001b[0mdtype\u001b[0m\u001b[1;33m=\u001b[0m\u001b[0mdtype\u001b[0m\u001b[1;33m,\u001b[0m \u001b[0mcopy\u001b[0m\u001b[1;33m=\u001b[0m\u001b[0mcopy\u001b[0m\u001b[1;33m)\u001b[0m\u001b[1;33m\u001b[0m\u001b[1;33m\u001b[0m\u001b[0m\n\u001b[0m\u001b[0;32m    465\u001b[0m \u001b[1;33m\u001b[0m\u001b[0m\n\u001b[0;32m    466\u001b[0m         \u001b[1;31m# For data is list-like, or Iterable (will consume into list)\u001b[0m\u001b[1;33m\u001b[0m\u001b[1;33m\u001b[0m\u001b[1;33m\u001b[0m\u001b[0m\n",
      "\u001b[1;32mD:\\anaconda\\lib\\site-packages\\pandas\\core\\internals\\construction.py\u001b[0m in \u001b[0;36minit_ndarray\u001b[1;34m(values, index, columns, dtype, copy)\u001b[0m\n\u001b[0;32m    167\u001b[0m     \u001b[1;31m# by definition an array here\u001b[0m\u001b[1;33m\u001b[0m\u001b[1;33m\u001b[0m\u001b[1;33m\u001b[0m\u001b[0m\n\u001b[0;32m    168\u001b[0m     \u001b[1;31m# the dtypes will be coerced to a single dtype\u001b[0m\u001b[1;33m\u001b[0m\u001b[1;33m\u001b[0m\u001b[1;33m\u001b[0m\u001b[0m\n\u001b[1;32m--> 169\u001b[1;33m     \u001b[0mvalues\u001b[0m \u001b[1;33m=\u001b[0m \u001b[0mprep_ndarray\u001b[0m\u001b[1;33m(\u001b[0m\u001b[0mvalues\u001b[0m\u001b[1;33m,\u001b[0m \u001b[0mcopy\u001b[0m\u001b[1;33m=\u001b[0m\u001b[0mcopy\u001b[0m\u001b[1;33m)\u001b[0m\u001b[1;33m\u001b[0m\u001b[1;33m\u001b[0m\u001b[0m\n\u001b[0m\u001b[0;32m    170\u001b[0m \u001b[1;33m\u001b[0m\u001b[0m\n\u001b[0;32m    171\u001b[0m     \u001b[1;32mif\u001b[0m \u001b[0mdtype\u001b[0m \u001b[1;32mis\u001b[0m \u001b[1;32mnot\u001b[0m \u001b[1;32mNone\u001b[0m\u001b[1;33m:\u001b[0m\u001b[1;33m\u001b[0m\u001b[1;33m\u001b[0m\u001b[0m\n",
      "\u001b[1;32mD:\\anaconda\\lib\\site-packages\\pandas\\core\\internals\\construction.py\u001b[0m in \u001b[0;36mprep_ndarray\u001b[1;34m(values, copy)\u001b[0m\n\u001b[0;32m    293\u001b[0m         \u001b[0mvalues\u001b[0m \u001b[1;33m=\u001b[0m \u001b[0mvalues\u001b[0m\u001b[1;33m.\u001b[0m\u001b[0mreshape\u001b[0m\u001b[1;33m(\u001b[0m\u001b[1;33m(\u001b[0m\u001b[0mvalues\u001b[0m\u001b[1;33m.\u001b[0m\u001b[0mshape\u001b[0m\u001b[1;33m[\u001b[0m\u001b[1;36m0\u001b[0m\u001b[1;33m]\u001b[0m\u001b[1;33m,\u001b[0m \u001b[1;36m1\u001b[0m\u001b[1;33m)\u001b[0m\u001b[1;33m)\u001b[0m\u001b[1;33m\u001b[0m\u001b[1;33m\u001b[0m\u001b[0m\n\u001b[0;32m    294\u001b[0m     \u001b[1;32melif\u001b[0m \u001b[0mvalues\u001b[0m\u001b[1;33m.\u001b[0m\u001b[0mndim\u001b[0m \u001b[1;33m!=\u001b[0m \u001b[1;36m2\u001b[0m\u001b[1;33m:\u001b[0m\u001b[1;33m\u001b[0m\u001b[1;33m\u001b[0m\u001b[0m\n\u001b[1;32m--> 295\u001b[1;33m         \u001b[1;32mraise\u001b[0m \u001b[0mValueError\u001b[0m\u001b[1;33m(\u001b[0m\u001b[1;34m\"Must pass 2-d input\"\u001b[0m\u001b[1;33m)\u001b[0m\u001b[1;33m\u001b[0m\u001b[1;33m\u001b[0m\u001b[0m\n\u001b[0m\u001b[0;32m    296\u001b[0m \u001b[1;33m\u001b[0m\u001b[0m\n\u001b[0;32m    297\u001b[0m     \u001b[1;32mreturn\u001b[0m \u001b[0mvalues\u001b[0m\u001b[1;33m\u001b[0m\u001b[1;33m\u001b[0m\u001b[0m\n",
      "\u001b[1;31mValueError\u001b[0m: Must pass 2-d input"
     ]
    }
   ],
   "source": [
    "z = np.zeros([3,2,2])\n",
    "z\n",
    "dz=pd.DataFrame(z)\n",
    "dz"
   ]
  },
  {
   "cell_type": "code",
   "execution_count": 76,
   "metadata": {},
   "outputs": [
    {
     "data": {
      "text/plain": [
       "0.0"
      ]
     },
     "execution_count": 76,
     "metadata": {},
     "output_type": "execute_result"
    }
   ],
   "source": [
    "x[0][1][1]"
   ]
  },
  {
   "cell_type": "code",
   "execution_count": 79,
   "metadata": {},
   "outputs": [],
   "source": [
    "import pyfeng as pf\n",
    "import timer\n",
    "import numpy as np\n",
    "\n",
    "n_path = 200000\n",
    "dt = 1 / 250\n",
    "\n",
    "sigma, mr, spot, theta, intr = 0.087, 2, 100, 0.09, 0.015\n",
    "vol_budget = 0.087  # Li M, Mercurio F (2015). Budget level is constant = 0.087\n",
    "\n",
    "vov = np.array([0.125, 0.25, 0.375])\n",
    "texp = np.array([0.5, 1.0, 1.5, 2.0, 10.0])\n",
    "strike = np.array([90, 100, 110])\n",
    "\n",
    "# for vov in [0.125, 0.25, 0.375]:\n",
    "#     for texp in [0.5, 1.0, 1.5, 2.0, 10.0]:\n",
    "#         for rho in [0]:\n",
    "#             for strike in [90, 100, 110]:\n",
    "#                 m = pf.HestonMcAndersen2008(sigma, vov=vov, mr=mr, rho=rho, theta=theta, intr=intr)\n",
    "#                 m.set_num_params(n_path=n_path, dt=dt, rn_seed=123456)\n",
    "#\n",
    "#                 cp = 1  # Timer option--call option\n",
    "#                 print(\"vov(η)=\", vov, \"texp(T)=\", texp, \"rho(ρ)=\", rho, \"strike(K)=\", strike, \": \", \\\n",
    "#                       timer.timeroption(vol_budget, model=m).price(spot=spot, strike=strike, texp=texp, cp=cp))\n",
    "\n",
    "rho = 0\n",
    "cp = 1\n",
    "for i in range(len(vov)):\n",
    "    for j in range(len(texp)):\n",
    "        for k in range(len(strike)):\n",
    "            m = pf.HestonMcAndersen2008(sigma, vov=vov[i], mr=mr, rho=rho, theta=theta, intr=intr)\n",
    "            m.set_num_params(n_path=n_path, dt=dt, rn_seed=123456)\n",
    "            cp = 1\n",
    "            x[j][k][i] = timer.timeroption(vol_budget, model=m).price(spot=spot, strike=strike[k], texp=texp[j], cp=cp)"
   ]
  },
  {
   "cell_type": "code",
   "execution_count": 80,
   "metadata": {},
   "outputs": [
    {
     "data": {
      "text/plain": [
       "array([[[14.34160091, 14.31691054, 14.26999203],\n",
       "        [ 8.67647446,  8.63366821,  8.55452477],\n",
       "        [ 4.88543919,  4.85241675,  4.79088315]],\n",
       "\n",
       "       [[17.35199114, 17.06532512, 16.76035494],\n",
       "        [12.08896684, 11.75426648, 11.39572367],\n",
       "        [ 8.17238514,  7.84561551,  7.49212563]],\n",
       "\n",
       "       [[17.62567505, 17.66718423, 17.57613136],\n",
       "        [12.38781847, 12.41784448, 12.30075286],\n",
       "        [ 8.46357213,  8.48782858,  8.36170497]],\n",
       "\n",
       "       [[17.62598762, 17.69762593, 17.75043558],\n",
       "        [12.38807825, 12.45158871, 12.4916606 ],\n",
       "        [ 8.4638251 ,  8.52222176,  8.54776175]],\n",
       "\n",
       "       [[17.62598762, 17.69839695, 17.76674403],\n",
       "        [12.38807825, 12.45238177, 12.51004673],\n",
       "        [ 8.4638251 ,  8.52309047,  8.56550553]]])"
      ]
     },
     "execution_count": 80,
     "metadata": {},
     "output_type": "execute_result"
    }
   ],
   "source": [
    "x"
   ]
  },
  {
   "cell_type": "code",
   "execution_count": 82,
   "metadata": {},
   "outputs": [
    {
     "ename": "ValueError",
     "evalue": "Must pass 2-d input",
     "output_type": "error",
     "traceback": [
      "\u001b[1;31m---------------------------------------------------------------------------\u001b[0m",
      "\u001b[1;31mValueError\u001b[0m                                Traceback (most recent call last)",
      "\u001b[1;32m<ipython-input-82-ec8258c21bf3>\u001b[0m in \u001b[0;36m<module>\u001b[1;34m\u001b[0m\n\u001b[0;32m      1\u001b[0m \u001b[1;32mimport\u001b[0m \u001b[0mpandas\u001b[0m \u001b[1;32mas\u001b[0m \u001b[0mpd\u001b[0m\u001b[1;33m\u001b[0m\u001b[1;33m\u001b[0m\u001b[0m\n\u001b[1;32m----> 2\u001b[1;33m \u001b[0mdf\u001b[0m\u001b[1;33m=\u001b[0m\u001b[0mpd\u001b[0m\u001b[1;33m.\u001b[0m\u001b[0mDataFrame\u001b[0m\u001b[1;33m(\u001b[0m\u001b[0mx\u001b[0m\u001b[1;33m)\u001b[0m\u001b[1;33m\u001b[0m\u001b[1;33m\u001b[0m\u001b[0m\n\u001b[0m\u001b[0;32m      3\u001b[0m \u001b[0mdf\u001b[0m\u001b[1;33m\u001b[0m\u001b[1;33m\u001b[0m\u001b[0m\n",
      "\u001b[1;32mD:\\anaconda\\lib\\site-packages\\pandas\\core\\frame.py\u001b[0m in \u001b[0;36m__init__\u001b[1;34m(self, data, index, columns, dtype, copy)\u001b[0m\n\u001b[0;32m    462\u001b[0m                 \u001b[0mmgr\u001b[0m \u001b[1;33m=\u001b[0m \u001b[0minit_dict\u001b[0m\u001b[1;33m(\u001b[0m\u001b[1;33m{\u001b[0m\u001b[0mdata\u001b[0m\u001b[1;33m.\u001b[0m\u001b[0mname\u001b[0m\u001b[1;33m:\u001b[0m \u001b[0mdata\u001b[0m\u001b[1;33m}\u001b[0m\u001b[1;33m,\u001b[0m \u001b[0mindex\u001b[0m\u001b[1;33m,\u001b[0m \u001b[0mcolumns\u001b[0m\u001b[1;33m,\u001b[0m \u001b[0mdtype\u001b[0m\u001b[1;33m=\u001b[0m\u001b[0mdtype\u001b[0m\u001b[1;33m)\u001b[0m\u001b[1;33m\u001b[0m\u001b[1;33m\u001b[0m\u001b[0m\n\u001b[0;32m    463\u001b[0m             \u001b[1;32melse\u001b[0m\u001b[1;33m:\u001b[0m\u001b[1;33m\u001b[0m\u001b[1;33m\u001b[0m\u001b[0m\n\u001b[1;32m--> 464\u001b[1;33m                 \u001b[0mmgr\u001b[0m \u001b[1;33m=\u001b[0m \u001b[0minit_ndarray\u001b[0m\u001b[1;33m(\u001b[0m\u001b[0mdata\u001b[0m\u001b[1;33m,\u001b[0m \u001b[0mindex\u001b[0m\u001b[1;33m,\u001b[0m \u001b[0mcolumns\u001b[0m\u001b[1;33m,\u001b[0m \u001b[0mdtype\u001b[0m\u001b[1;33m=\u001b[0m\u001b[0mdtype\u001b[0m\u001b[1;33m,\u001b[0m \u001b[0mcopy\u001b[0m\u001b[1;33m=\u001b[0m\u001b[0mcopy\u001b[0m\u001b[1;33m)\u001b[0m\u001b[1;33m\u001b[0m\u001b[1;33m\u001b[0m\u001b[0m\n\u001b[0m\u001b[0;32m    465\u001b[0m \u001b[1;33m\u001b[0m\u001b[0m\n\u001b[0;32m    466\u001b[0m         \u001b[1;31m# For data is list-like, or Iterable (will consume into list)\u001b[0m\u001b[1;33m\u001b[0m\u001b[1;33m\u001b[0m\u001b[1;33m\u001b[0m\u001b[0m\n",
      "\u001b[1;32mD:\\anaconda\\lib\\site-packages\\pandas\\core\\internals\\construction.py\u001b[0m in \u001b[0;36minit_ndarray\u001b[1;34m(values, index, columns, dtype, copy)\u001b[0m\n\u001b[0;32m    167\u001b[0m     \u001b[1;31m# by definition an array here\u001b[0m\u001b[1;33m\u001b[0m\u001b[1;33m\u001b[0m\u001b[1;33m\u001b[0m\u001b[0m\n\u001b[0;32m    168\u001b[0m     \u001b[1;31m# the dtypes will be coerced to a single dtype\u001b[0m\u001b[1;33m\u001b[0m\u001b[1;33m\u001b[0m\u001b[1;33m\u001b[0m\u001b[0m\n\u001b[1;32m--> 169\u001b[1;33m     \u001b[0mvalues\u001b[0m \u001b[1;33m=\u001b[0m \u001b[0mprep_ndarray\u001b[0m\u001b[1;33m(\u001b[0m\u001b[0mvalues\u001b[0m\u001b[1;33m,\u001b[0m \u001b[0mcopy\u001b[0m\u001b[1;33m=\u001b[0m\u001b[0mcopy\u001b[0m\u001b[1;33m)\u001b[0m\u001b[1;33m\u001b[0m\u001b[1;33m\u001b[0m\u001b[0m\n\u001b[0m\u001b[0;32m    170\u001b[0m \u001b[1;33m\u001b[0m\u001b[0m\n\u001b[0;32m    171\u001b[0m     \u001b[1;32mif\u001b[0m \u001b[0mdtype\u001b[0m \u001b[1;32mis\u001b[0m \u001b[1;32mnot\u001b[0m \u001b[1;32mNone\u001b[0m\u001b[1;33m:\u001b[0m\u001b[1;33m\u001b[0m\u001b[1;33m\u001b[0m\u001b[0m\n",
      "\u001b[1;32mD:\\anaconda\\lib\\site-packages\\pandas\\core\\internals\\construction.py\u001b[0m in \u001b[0;36mprep_ndarray\u001b[1;34m(values, copy)\u001b[0m\n\u001b[0;32m    293\u001b[0m         \u001b[0mvalues\u001b[0m \u001b[1;33m=\u001b[0m \u001b[0mvalues\u001b[0m\u001b[1;33m.\u001b[0m\u001b[0mreshape\u001b[0m\u001b[1;33m(\u001b[0m\u001b[1;33m(\u001b[0m\u001b[0mvalues\u001b[0m\u001b[1;33m.\u001b[0m\u001b[0mshape\u001b[0m\u001b[1;33m[\u001b[0m\u001b[1;36m0\u001b[0m\u001b[1;33m]\u001b[0m\u001b[1;33m,\u001b[0m \u001b[1;36m1\u001b[0m\u001b[1;33m)\u001b[0m\u001b[1;33m)\u001b[0m\u001b[1;33m\u001b[0m\u001b[1;33m\u001b[0m\u001b[0m\n\u001b[0;32m    294\u001b[0m     \u001b[1;32melif\u001b[0m \u001b[0mvalues\u001b[0m\u001b[1;33m.\u001b[0m\u001b[0mndim\u001b[0m \u001b[1;33m!=\u001b[0m \u001b[1;36m2\u001b[0m\u001b[1;33m:\u001b[0m\u001b[1;33m\u001b[0m\u001b[1;33m\u001b[0m\u001b[0m\n\u001b[1;32m--> 295\u001b[1;33m         \u001b[1;32mraise\u001b[0m \u001b[0mValueError\u001b[0m\u001b[1;33m(\u001b[0m\u001b[1;34m\"Must pass 2-d input\"\u001b[0m\u001b[1;33m)\u001b[0m\u001b[1;33m\u001b[0m\u001b[1;33m\u001b[0m\u001b[0m\n\u001b[0m\u001b[0;32m    296\u001b[0m \u001b[1;33m\u001b[0m\u001b[0m\n\u001b[0;32m    297\u001b[0m     \u001b[1;32mreturn\u001b[0m \u001b[0mvalues\u001b[0m\u001b[1;33m\u001b[0m\u001b[1;33m\u001b[0m\u001b[0m\n",
      "\u001b[1;31mValueError\u001b[0m: Must pass 2-d input"
     ]
    }
   ],
   "source": [
    "import pandas as pd\n",
    "df=pd.DataFrame(x)\n",
    "df"
   ]
  },
  {
   "cell_type": "code",
   "execution_count": 83,
   "metadata": {},
   "outputs": [
    {
     "data": {
      "text/plain": [
       "array([[[0., 0., 0.],\n",
       "        [0., 0., 0.],\n",
       "        [0., 0., 0.]],\n",
       "\n",
       "       [[0., 0., 0.],\n",
       "        [0., 0., 0.],\n",
       "        [0., 0., 0.]],\n",
       "\n",
       "       [[0., 0., 0.],\n",
       "        [0., 0., 0.],\n",
       "        [0., 0., 0.]],\n",
       "\n",
       "       [[0., 0., 0.],\n",
       "        [0., 0., 0.],\n",
       "        [0., 0., 0.]],\n",
       "\n",
       "       [[0., 0., 0.],\n",
       "        [0., 0., 0.],\n",
       "        [0., 0., 0.]]])"
      ]
     },
     "execution_count": 83,
     "metadata": {},
     "output_type": "execute_result"
    }
   ],
   "source": [
    "y = np.zeros([5,3,3]) #第一个5是T/texp的取值维度，第二个3是K/strike的取值维度，第三个3是vov的取值维度\n",
    "y"
   ]
  },
  {
   "cell_type": "code",
   "execution_count": null,
   "metadata": {},
   "outputs": [],
   "source": [
    "import pyfeng as pf\n",
    "import timer\n",
    "import numpy as np\n",
    "\n",
    "n_path = 200000\n",
    "dt = 1 / 250\n",
    "\n",
    "sigma, mr, spot, theta, intr = 0.087, 2, 100, 0.09, 0.015\n",
    "vol_budget = 0.087  # Li M, Mercurio F (2015). Budget level is constant = 0.087\n",
    "\n",
    "vov = np.array([0.125, 0.25, 0.375])\n",
    "texp = np.array([0.5, 1.0, 1.5, 2.0, 10.0])\n",
    "strike = np.array([90, 100, 110])\n",
    "\n",
    "# for vov in [0.125, 0.25, 0.375]:\n",
    "#     for texp in [0.5, 1.0, 1.5, 2.0, 10.0]:\n",
    "#         for rho in [0]:\n",
    "#             for strike in [90, 100, 110]:\n",
    "#                 m = pf.HestonMcAndersen2008(sigma, vov=vov, mr=mr, rho=rho, theta=theta, intr=intr)\n",
    "#                 m.set_num_params(n_path=n_path, dt=dt, rn_seed=123456)\n",
    "#\n",
    "#                 cp = 1  # Timer option--call option\n",
    "#                 print(\"vov(η)=\", vov, \"texp(T)=\", texp, \"rho(ρ)=\", rho, \"strike(K)=\", strike, \": \", \\\n",
    "#                       timer.timeroption(vol_budget, model=m).price(spot=spot, strike=strike, texp=texp, cp=cp))\n",
    "\n",
    "rho = 0\n",
    "cp = 1\n",
    "for i in range(len(vov)):\n",
    "    for j in range(len(texp)):\n",
    "        print('T =%s:\\n' % texp(j) )\n",
    "        for k in range(len(strike)):\n",
    "            m = pf.HestonMcAndersen2008(sigma, vov=vov[i], mr=mr, rho=rho, theta=theta, intr=intr)\n",
    "            m.set_num_params(n_path=n_path, dt=dt, rn_seed=123456)\n",
    "            cp = 1\n",
    "            x[j][k][i] = timer.timeroption(vol_budget, model=m).price(spot=spot, strike=strike[k], texp=texp[j], cp=cp)\n",
    "            print(x[j][k][i])"
   ]
  },
  {
   "cell_type": "code",
   "execution_count": 86,
   "metadata": {},
   "outputs": [
    {
     "name": "stdout",
     "output_type": "stream",
     "text": [
      "T = 0.5:\n",
      "\n"
     ]
    }
   ],
   "source": [
    "i=0.5\n",
    "print('T = %s:\\n' % i)"
   ]
  },
  {
   "cell_type": "code",
   "execution_count": null,
   "metadata": {},
   "outputs": [],
   "source": [
    "import pyfeng as pf\n",
    "import timer\n",
    "import numpy as np\n",
    "\n",
    "n_path = 200000\n",
    "dt = 1 / 250\n",
    "\n",
    "sigma, mr, spot, theta, intr = 0.087, 2, 100, 0.09, 0.015\n",
    "vol_budget = 0.087  # Li M, Mercurio F (2015). Budget level is constant = 0.087\n",
    "\n",
    "vov = np.array([0.125, 0.25, 0.375])\n",
    "texp = np.array([0.5, 1.0, 1.5, 2.0, 10.0])\n",
    "strike = np.array([90, 100, 110])"
   ]
  },
  {
   "cell_type": "code",
   "execution_count": null,
   "metadata": {},
   "outputs": [],
   "source": [
    "rho = 0\n",
    "cp = 1"
   ]
  },
  {
   "cell_type": "code",
   "execution_count": 88,
   "metadata": {},
   "outputs": [],
   "source": [
    "import pyfeng as pf\n",
    "import timer\n",
    "import numpy as np\n",
    "\n",
    "n_path = 200000\n",
    "dt = 1 / 250\n",
    "\n",
    "sigma, mr, spot, theta, intr = 0.087, 2, 100, 0.09, 0.015\n",
    "vol_budget = 0.087  # Li M, Mercurio F (2015). Budget level is constant = 0.087\n",
    "\n",
    "vov = np.array([0.125, 0.25, 0.375])\n",
    "texp = np.array([0.5, 1.0, 1.5, 2.0, 10.0])\n",
    "strike = np.array([90, 100, 110])\n",
    "\n",
    "# for vov in [0.125, 0.25, 0.375]:\n",
    "#     for texp in [0.5, 1.0, 1.5, 2.0, 10.0]:\n",
    "#         for rho in [0]:\n",
    "#             for strike in [90, 100, 110]:\n",
    "#                 m = pf.HestonMcAndersen2008(sigma, vov=vov, mr=mr, rho=rho, theta=theta, intr=intr)\n",
    "#                 m.set_num_params(n_path=n_path, dt=dt, rn_seed=123456)\n",
    "#\n",
    "#                 cp = 1  # Timer option--call option\n",
    "#                 print(\"vov(η)=\", vov, \"texp(T)=\", texp, \"rho(ρ)=\", rho, \"strike(K)=\", strike, \": \", \\\n",
    "#                       timer.timeroption(vol_budget, model=m).price(spot=spot, strike=strike, texp=texp, cp=cp))\n",
    "\n",
    "rho = 0\n",
    "cp = 1"
   ]
  },
  {
   "cell_type": "code",
   "execution_count": 91,
   "metadata": {},
   "outputs": [
    {
     "name": "stdout",
     "output_type": "stream",
     "text": [
      "T = 0.5:\n",
      "\n",
      "14.34160091358013\n",
      "14.316910540093335\n",
      "14.2699920342206\n",
      "8.676474460906581\n",
      "8.633668211241769\n",
      "8.554524766658055\n",
      "4.885439191043122\n"
     ]
    },
    {
     "ename": "KeyboardInterrupt",
     "evalue": "",
     "output_type": "error",
     "traceback": [
      "\u001b[1;31m---------------------------------------------------------------------------\u001b[0m",
      "\u001b[1;31mKeyboardInterrupt\u001b[0m                         Traceback (most recent call last)",
      "\u001b[1;32m<ipython-input-91-fc07d25040d1>\u001b[0m in \u001b[0;36m<module>\u001b[1;34m\u001b[0m\n\u001b[0;32m      6\u001b[0m             \u001b[0mm\u001b[0m\u001b[1;33m.\u001b[0m\u001b[0mset_num_params\u001b[0m\u001b[1;33m(\u001b[0m\u001b[0mn_path\u001b[0m\u001b[1;33m=\u001b[0m\u001b[0mn_path\u001b[0m\u001b[1;33m,\u001b[0m \u001b[0mdt\u001b[0m\u001b[1;33m=\u001b[0m\u001b[0mdt\u001b[0m\u001b[1;33m,\u001b[0m \u001b[0mrn_seed\u001b[0m\u001b[1;33m=\u001b[0m\u001b[1;36m123456\u001b[0m\u001b[1;33m)\u001b[0m\u001b[1;33m\u001b[0m\u001b[1;33m\u001b[0m\u001b[0m\n\u001b[0;32m      7\u001b[0m             \u001b[0mcp\u001b[0m \u001b[1;33m=\u001b[0m \u001b[1;36m1\u001b[0m\u001b[1;33m\u001b[0m\u001b[1;33m\u001b[0m\u001b[0m\n\u001b[1;32m----> 8\u001b[1;33m             \u001b[0mx\u001b[0m\u001b[1;33m[\u001b[0m\u001b[0mi\u001b[0m\u001b[1;33m]\u001b[0m\u001b[1;33m[\u001b[0m\u001b[0mj\u001b[0m\u001b[1;33m]\u001b[0m\u001b[1;33m[\u001b[0m\u001b[0mk\u001b[0m\u001b[1;33m]\u001b[0m \u001b[1;33m=\u001b[0m \u001b[0mtimer\u001b[0m\u001b[1;33m.\u001b[0m\u001b[0mtimeroption\u001b[0m\u001b[1;33m(\u001b[0m\u001b[0mvol_budget\u001b[0m\u001b[1;33m,\u001b[0m \u001b[0mmodel\u001b[0m\u001b[1;33m=\u001b[0m\u001b[0mm\u001b[0m\u001b[1;33m)\u001b[0m\u001b[1;33m.\u001b[0m\u001b[0mprice\u001b[0m\u001b[1;33m(\u001b[0m\u001b[0mspot\u001b[0m\u001b[1;33m=\u001b[0m\u001b[0mspot\u001b[0m\u001b[1;33m,\u001b[0m \u001b[0mstrike\u001b[0m\u001b[1;33m=\u001b[0m\u001b[0mstrike\u001b[0m\u001b[1;33m[\u001b[0m\u001b[0mj\u001b[0m\u001b[1;33m]\u001b[0m\u001b[1;33m,\u001b[0m \u001b[0mtexp\u001b[0m\u001b[1;33m=\u001b[0m\u001b[0mtexp\u001b[0m\u001b[1;33m[\u001b[0m\u001b[0mi\u001b[0m\u001b[1;33m]\u001b[0m\u001b[1;33m,\u001b[0m \u001b[0mcp\u001b[0m\u001b[1;33m=\u001b[0m\u001b[0mcp\u001b[0m\u001b[1;33m)\u001b[0m\u001b[1;33m\u001b[0m\u001b[1;33m\u001b[0m\u001b[0m\n\u001b[0m\u001b[0;32m      9\u001b[0m             \u001b[0mprint\u001b[0m\u001b[1;33m(\u001b[0m\u001b[0mx\u001b[0m\u001b[1;33m[\u001b[0m\u001b[0mi\u001b[0m\u001b[1;33m]\u001b[0m\u001b[1;33m[\u001b[0m\u001b[0mj\u001b[0m\u001b[1;33m]\u001b[0m\u001b[1;33m[\u001b[0m\u001b[0mk\u001b[0m\u001b[1;33m]\u001b[0m\u001b[1;33m)\u001b[0m\u001b[1;33m\u001b[0m\u001b[1;33m\u001b[0m\u001b[0m\n",
      "\u001b[1;32mD:\\PHBS\\ASP2022-Module1-fall1\\20221029 project\\timer.py\u001b[0m in \u001b[0;36mprice\u001b[1;34m(self, spot, strike, texp, cp)\u001b[0m\n\u001b[0;32m     45\u001b[0m             \u001b[1;31m# Check if intvar exceeds the budget.\u001b[0m\u001b[1;33m\u001b[0m\u001b[1;33m\u001b[0m\u001b[1;33m\u001b[0m\u001b[0m\n\u001b[0;32m     46\u001b[0m             \u001b[1;31m# If exceeds, fix the payout.\u001b[0m\u001b[1;33m\u001b[0m\u001b[1;33m\u001b[0m\u001b[1;33m\u001b[0m\u001b[0m\n\u001b[1;32m---> 47\u001b[1;33m             \u001b[0mpayout\u001b[0m \u001b[1;33m=\u001b[0m \u001b[0mnp\u001b[0m\u001b[1;33m.\u001b[0m\u001b[0mexp\u001b[0m\u001b[1;33m(\u001b[0m\u001b[1;33m-\u001b[0m\u001b[0mself\u001b[0m\u001b[1;33m.\u001b[0m\u001b[0mmodel\u001b[0m\u001b[1;33m.\u001b[0m\u001b[0mintr\u001b[0m \u001b[1;33m*\u001b[0m \u001b[0mdt\u001b[0m \u001b[1;33m*\u001b[0m \u001b[1;33m(\u001b[0m\u001b[0mi\u001b[0m\u001b[1;33m+\u001b[0m\u001b[1;36m1\u001b[0m\u001b[1;33m)\u001b[0m\u001b[1;33m)\u001b[0m \u001b[1;33m*\u001b[0m \u001b[0mnp\u001b[0m\u001b[1;33m.\u001b[0m\u001b[0mmaximum\u001b[0m\u001b[1;33m(\u001b[0m\u001b[0mcp\u001b[0m\u001b[1;33m*\u001b[0m\u001b[1;33m(\u001b[0m\u001b[0ms_t\u001b[0m\u001b[1;33m-\u001b[0m\u001b[0mstrike\u001b[0m\u001b[1;33m)\u001b[0m \u001b[1;33m*\u001b[0m \u001b[1;33m(\u001b[0m\u001b[0mintvar\u001b[0m \u001b[1;33m>\u001b[0m \u001b[0mself\u001b[0m\u001b[1;33m.\u001b[0m\u001b[0mvol_budget\u001b[0m\u001b[1;33m)\u001b[0m\u001b[1;33m,\u001b[0m \u001b[1;36m0\u001b[0m\u001b[1;33m)\u001b[0m \u001b[1;33m*\u001b[0m \u001b[1;33m(\u001b[0m\u001b[0mpayout\u001b[0m \u001b[1;33m==\u001b[0m \u001b[1;36m0\u001b[0m\u001b[1;33m)\u001b[0m \u001b[1;33m+\u001b[0m \u001b[1;36m123456\u001b[0m \u001b[1;33m*\u001b[0m \u001b[1;33m(\u001b[0m\u001b[0mcp\u001b[0m\u001b[1;33m*\u001b[0m\u001b[1;33m(\u001b[0m\u001b[0ms_t\u001b[0m \u001b[1;33m-\u001b[0m \u001b[0mstrike\u001b[0m\u001b[1;33m)\u001b[0m \u001b[1;33m<\u001b[0m \u001b[1;36m0\u001b[0m\u001b[1;33m)\u001b[0m \u001b[1;33m*\u001b[0m \u001b[1;33m(\u001b[0m\u001b[0mintvar\u001b[0m \u001b[1;33m>\u001b[0m \u001b[0mself\u001b[0m\u001b[1;33m.\u001b[0m\u001b[0mvol_budget\u001b[0m\u001b[1;33m)\u001b[0m \u001b[1;33m*\u001b[0m \u001b[1;33m(\u001b[0m\u001b[0mpayout\u001b[0m \u001b[1;33m==\u001b[0m \u001b[1;36m0\u001b[0m\u001b[1;33m)\u001b[0m \u001b[1;33m+\u001b[0m \u001b[0mpayout\u001b[0m\u001b[1;33m\u001b[0m\u001b[1;33m\u001b[0m\u001b[0m\n\u001b[0m\u001b[0;32m     48\u001b[0m \u001b[1;33m\u001b[0m\u001b[0m\n\u001b[0;32m     49\u001b[0m         \u001b[0mvar_t2\u001b[0m\u001b[1;33m,\u001b[0m \u001b[0mavgvar_inc\u001b[0m\u001b[1;33m,\u001b[0m \u001b[1;33m*\u001b[0m\u001b[0m_\u001b[0m \u001b[1;33m=\u001b[0m \u001b[0mself\u001b[0m\u001b[1;33m.\u001b[0m\u001b[0mmodel\u001b[0m\u001b[1;33m.\u001b[0m\u001b[0mcond_states_step\u001b[0m\u001b[1;33m(\u001b[0m\u001b[0mdt\u001b[0m\u001b[1;33m,\u001b[0m \u001b[0mvar_t1\u001b[0m\u001b[1;33m)\u001b[0m\u001b[1;33m\u001b[0m\u001b[1;33m\u001b[0m\u001b[0m\n",
      "\u001b[1;31mKeyboardInterrupt\u001b[0m: "
     ]
    }
   ],
   "source": [
    "#以下是对的，但提前终止了\n",
    "for i in range(len(texp)):\n",
    "    print('T = %s:\\n' % texp[i])\n",
    "    for j in range(len(strike)):\n",
    "        for k in range(len(vov)):\n",
    "            m = pf.HestonMcAndersen2008(sigma, vov=vov[k], mr=mr, rho=rho, theta=theta, intr=intr)\n",
    "            m.set_num_params(n_path=n_path, dt=dt, rn_seed=123456)\n",
    "            cp = 1\n",
    "            x[i][j][k] = timer.timeroption(vol_budget, model=m).price(spot=spot, strike=strike[j], texp=texp[i], cp=cp)\n",
    "            print(x[i][j][k])"
   ]
  },
  {
   "cell_type": "code",
   "execution_count": 92,
   "metadata": {},
   "outputs": [
    {
     "data": {
      "text/plain": [
       "array([[[0., 0., 0.],\n",
       "        [0., 0., 0.],\n",
       "        [0., 0., 0.]],\n",
       "\n",
       "       [[0., 0., 0.],\n",
       "        [0., 0., 0.],\n",
       "        [0., 0., 0.]],\n",
       "\n",
       "       [[0., 0., 0.],\n",
       "        [0., 0., 0.],\n",
       "        [0., 0., 0.]],\n",
       "\n",
       "       [[0., 0., 0.],\n",
       "        [0., 0., 0.],\n",
       "        [0., 0., 0.]],\n",
       "\n",
       "       [[0., 0., 0.],\n",
       "        [0., 0., 0.],\n",
       "        [0., 0., 0.]]])"
      ]
     },
     "execution_count": 92,
     "metadata": {},
     "output_type": "execute_result"
    }
   ],
   "source": [
    "y = np.zeros([5,3,3]) #第一个5是T/texp的取值维度，第二个3是K/strike的取值维度，第三个3是vov的取值维度\n",
    "y"
   ]
  },
  {
   "cell_type": "code",
   "execution_count": 128,
   "metadata": {},
   "outputs": [
    {
     "name": "stdout",
     "output_type": "stream",
     "text": [
      "T = 0.5:\n",
      "     0    1    2\n",
      "0  0.0  1.0  2.0\n",
      "1  1.0  2.0  3.0\n",
      "2  2.0  3.0  4.0\n",
      "\n",
      "\n",
      "T = 1.0:\n",
      "     0    1    2\n",
      "0  1.0  2.0  3.0\n",
      "1  2.0  3.0  4.0\n",
      "2  3.0  4.0  5.0\n",
      "\n",
      "\n",
      "T = 1.5:\n",
      "     0    1    2\n",
      "0  2.0  3.0  4.0\n",
      "1  3.0  4.0  5.0\n",
      "2  4.0  5.0  6.0\n",
      "\n",
      "\n",
      "T = 2.0:\n",
      "     0    1    2\n",
      "0  3.0  4.0  5.0\n",
      "1  4.0  5.0  6.0\n",
      "2  5.0  6.0  7.0\n",
      "\n",
      "\n",
      "T = 10.0:\n",
      "     0    1    2\n",
      "0  4.0  5.0  6.0\n",
      "1  5.0  6.0  7.0\n",
      "2  6.0  7.0  8.0\n",
      "\n",
      "\n"
     ]
    }
   ],
   "source": [
    "# 试验\n",
    "for i in range(5):\n",
    "    print('T = %s:' % texp[i])\n",
    "    for j in range(len(strike)):\n",
    "        for k in range(len(vov)):\n",
    "            x[i][j][k] = i+j+k\n",
    "    print(pd.DataFrame(x[i][:][:]))\n",
    "    print('\\n')"
   ]
  },
  {
   "cell_type": "code",
   "execution_count": 110,
   "metadata": {},
   "outputs": [
    {
     "name": "stdout",
     "output_type": "stream",
     "text": [
      "T = 0.5:\n",
      "[14.34160091 14.31691054 14.26999203]\n",
      "[8.67647446 8.63366821 8.55452477]\n",
      "[4.88543919 4.85241675 4.79088315]\n",
      "\n",
      "\n",
      "T = 1.0:\n",
      "[17.35199114 17.06532512 16.76035494]\n",
      "[12.08896684 11.75426648 11.39572367]\n",
      "[8.17238514 7.84561551 7.49212563]\n",
      "\n",
      "\n",
      "T = 1.5:\n",
      "[17.62567505 17.66718423 17.57613136]\n",
      "[12.38781847 12.41784448 12.30075286]\n",
      "[8.46357213 8.48782858 8.36170497]\n",
      "\n",
      "\n",
      "T = 2.0:\n",
      "[17.62598762 17.69762593 17.75043558]\n",
      "[12.38807825 12.45158871 12.4916606 ]\n",
      "[8.4638251  8.52222176 8.54776175]\n",
      "\n",
      "\n",
      "T = 10.0:\n",
      "[17.62598762 17.69839695 17.76674403]\n",
      "[12.38807825 12.45238177 12.51004673]\n",
      "[8.4638251  8.52309047 8.56550553]\n",
      "\n",
      "\n"
     ]
    }
   ],
   "source": [
    "# 以下才是最终代码！！\n",
    "for i in range(len(texp)):\n",
    "    print('T = %s:' % texp[i])\n",
    "    for j in range(len(strike)):\n",
    "        for k in range(len(vov)):\n",
    "            m = pf.HestonMcAndersen2008(sigma, vov=vov[k], mr=mr, rho=rho, theta=theta, intr=intr)\n",
    "            m.set_num_params(n_path=n_path, dt=dt, rn_seed=123456)\n",
    "            cp = 1\n",
    "            x[i][j][k] = timer.timeroption(vol_budget, model=m).price(spot=spot, strike=strike[j], texp=texp[i], cp=cp)\n",
    "        print(x[i][j][:])\n",
    "    print('\\n')"
   ]
  },
  {
   "cell_type": "code",
   "execution_count": 125,
   "metadata": {},
   "outputs": [
    {
     "name": "stdout",
     "output_type": "stream",
     "text": [
      "T = 0:\n",
      "ρ= 0:\n",
      "     0    1    2\n",
      "0  0.0  1.0  2.0\n",
      "1  1.0  2.0  3.0\n",
      "2  2.0  3.0  4.0\n",
      "\n",
      "\n",
      "ρ= 1:\n",
      "     0    1    2\n",
      "0  1.0  2.0  3.0\n",
      "1  2.0  3.0  4.0\n",
      "2  3.0  4.0  5.0\n",
      "\n",
      "\n",
      "T = 1:\n",
      "ρ= 0:\n",
      "     0    1    2\n",
      "0  1.0  2.0  3.0\n",
      "1  2.0  3.0  4.0\n",
      "2  3.0  4.0  5.0\n",
      "\n",
      "\n",
      "ρ= 1:\n",
      "     0    1    2\n",
      "0  2.0  3.0  4.0\n",
      "1  3.0  4.0  5.0\n",
      "2  4.0  5.0  6.0\n",
      "\n",
      "\n",
      "T = 2:\n",
      "ρ= 0:\n",
      "     0    1    2\n",
      "0  2.0  3.0  4.0\n",
      "1  3.0  4.0  5.0\n",
      "2  4.0  5.0  6.0\n",
      "\n",
      "\n",
      "ρ= 1:\n",
      "     0    1    2\n",
      "0  3.0  4.0  5.0\n",
      "1  4.0  5.0  6.0\n",
      "2  5.0  6.0  7.0\n",
      "\n",
      "\n"
     ]
    }
   ],
   "source": [
    "# 试验\n",
    "z = np.zeros([3,2,3,3])\n",
    "for i in range(3):\n",
    "    print('T = %s:' % i)\n",
    "    for j in range(2):\n",
    "        print('ρ= %s:' % j)\n",
    "        for k in range(3):\n",
    "            for l in range(3):\n",
    "                z[i][j][k][l] = i+j+k+l\n",
    "        print(pd.DataFrame(z[i][j][:][:]))\n",
    "#             print(z[i][j][k][:])\n",
    "\n",
    "        print('\\n')"
   ]
  },
  {
   "cell_type": "code",
   "execution_count": 129,
   "metadata": {},
   "outputs": [
    {
     "name": "stdout",
     "output_type": "stream",
     "text": [
      "T = 0.5:\n",
      "     0    1    2\n",
      "0  0.0  1.0  2.0\n",
      "1  1.0  2.0  3.0\n",
      "2  2.0  3.0  4.0\n",
      "\n",
      "\n",
      "T = 1.0:\n",
      "     0    1    2\n",
      "0  1.0  2.0  3.0\n",
      "1  2.0  3.0  4.0\n",
      "2  3.0  4.0  5.0\n",
      "\n",
      "\n",
      "T = 1.5:\n",
      "     0    1    2\n",
      "0  2.0  3.0  4.0\n",
      "1  3.0  4.0  5.0\n",
      "2  4.0  5.0  6.0\n",
      "\n",
      "\n",
      "T = 2.0:\n",
      "     0    1    2\n",
      "0  3.0  4.0  5.0\n",
      "1  4.0  5.0  6.0\n",
      "2  5.0  6.0  7.0\n",
      "\n",
      "\n",
      "T = 10.0:\n",
      "     0    1    2\n",
      "0  4.0  5.0  6.0\n",
      "1  5.0  6.0  7.0\n",
      "2  6.0  7.0  8.0\n",
      "\n",
      "\n"
     ]
    }
   ],
   "source": [
    "# 试验\n",
    "for i in range(5):\n",
    "    print('T = %s:' % texp[i])\n",
    "    for j in range(len(strike)):\n",
    "        for k in range(len(vov)):\n",
    "            x[i][j][k] = i+j+k\n",
    "    print(pd.DataFrame(x[i][:][:]))\n",
    "    print('\\n')"
   ]
  },
  {
   "cell_type": "code",
   "execution_count": 140,
   "metadata": {},
   "outputs": [
    {
     "name": "stdout",
     "output_type": "stream",
     "text": [
      "T = 0.5:\n",
      "        $\\rho_1$=0.125  η2=0.250  η3=0.375\n",
      "K1=90              0.0       1.0       2.0\n",
      "K2=100             1.0       2.0       3.0\n",
      "K3=110             2.0       3.0       4.0\n",
      "\n",
      "\n",
      "T = 1.0:\n",
      "        $\\rho_1$=0.125  η2=0.250  η3=0.375\n",
      "K1=90              1.0       2.0       3.0\n",
      "K2=100             2.0       3.0       4.0\n",
      "K3=110             3.0       4.0       5.0\n",
      "\n",
      "\n",
      "T = 1.5:\n",
      "        $\\rho_1$=0.125  η2=0.250  η3=0.375\n",
      "K1=90              2.0       3.0       4.0\n",
      "K2=100             3.0       4.0       5.0\n",
      "K3=110             4.0       5.0       6.0\n",
      "\n",
      "\n",
      "T = 2.0:\n",
      "        $\\rho_1$=0.125  η2=0.250  η3=0.375\n",
      "K1=90              3.0       4.0       5.0\n",
      "K2=100             4.0       5.0       6.0\n",
      "K3=110             5.0       6.0       7.0\n",
      "\n",
      "\n",
      "T = 10.0:\n",
      "        $\\rho_1$=0.125  η2=0.250  η3=0.375\n",
      "K1=90              4.0       5.0       6.0\n",
      "K2=100             5.0       6.0       7.0\n",
      "K3=110             6.0       7.0       8.0\n",
      "\n",
      "\n"
     ]
    }
   ],
   "source": [
    "# 试验\n",
    "for i in range(5):\n",
    "    print('T = %s:' % texp[i])\n",
    "    for j in range(len(strike)):\n",
    "        for k in range(len(vov)):\n",
    "            x[i][j][k] = i+j+k\n",
    "    # print(pd.DataFrame(x[i][:][:]))\n",
    "    df1=pd.DataFrame(x[i][:][:],index=['K1=90','K2=100','K3=110'],columns=['$\\rho_1$=0.125','η2=0.250','η3=0.375'])\n",
    "    print(df1)\n",
    "    print('\\n')"
   ]
  },
  {
   "cell_type": "code",
   "execution_count": 145,
   "metadata": {},
   "outputs": [
    {
     "name": "stdout",
     "output_type": "stream",
     "text": [
      "T = 0:\n",
      "ρ= 0:\n",
      "        η= 0.125  0.250  0.375\n",
      "K1=90        0.0    1.0    2.0\n",
      "K2=100       1.0    2.0    3.0\n",
      "K3=110       2.0    3.0    4.0\n",
      "\n",
      "\n",
      "ρ= 1:\n",
      "        η= 0.125  0.250  0.375\n",
      "K1=90        1.0    2.0    3.0\n",
      "K2=100       2.0    3.0    4.0\n",
      "K3=110       3.0    4.0    5.0\n",
      "\n",
      "\n",
      "T = 1:\n",
      "ρ= 0:\n",
      "        η= 0.125  0.250  0.375\n",
      "K1=90        1.0    2.0    3.0\n",
      "K2=100       2.0    3.0    4.0\n",
      "K3=110       3.0    4.0    5.0\n",
      "\n",
      "\n",
      "ρ= 1:\n",
      "        η= 0.125  0.250  0.375\n",
      "K1=90        2.0    3.0    4.0\n",
      "K2=100       3.0    4.0    5.0\n",
      "K3=110       4.0    5.0    6.0\n",
      "\n",
      "\n",
      "T = 2:\n",
      "ρ= 0:\n",
      "        η= 0.125  0.250  0.375\n",
      "K1=90        2.0    3.0    4.0\n",
      "K2=100       3.0    4.0    5.0\n",
      "K3=110       4.0    5.0    6.0\n",
      "\n",
      "\n",
      "ρ= 1:\n",
      "        η= 0.125  0.250  0.375\n",
      "K1=90        3.0    4.0    5.0\n",
      "K2=100       4.0    5.0    6.0\n",
      "K3=110       5.0    6.0    7.0\n",
      "\n",
      "\n"
     ]
    }
   ],
   "source": [
    "# 试验\n",
    "z = np.zeros([3,2,3,3])\n",
    "for i in range(3):\n",
    "    print('T = %s:' % i)\n",
    "    for j in range(2):\n",
    "        print('ρ= %s:' % j)\n",
    "        for k in range(3):\n",
    "            for l in range(3):\n",
    "                z[i][j][k][l] = i+j+k+l\n",
    "        # print(pd.DataFrame(z[i][j][:][:]))\n",
    "        df1=pd.DataFrame(z[i][j][:][:],index=['K1=90','K2=100','K3=110'],columns=['η= 0.125','0.250','0.375'])\n",
    "        print(df1)\n",
    "        \n",
    "#             print(z[i][j][k][:])\n",
    "\n",
    "        print('\\n')"
   ]
  },
  {
   "cell_type": "code",
   "execution_count": 1,
   "metadata": {},
   "outputs": [],
   "source": [
    "import pyfeng as pf\n",
    "import timer_mc # the timer option model\n",
    "import numpy as np\n",
    "import pandas as pd\n",
    "import time"
   ]
  },
  {
   "cell_type": "code",
   "execution_count": 7,
   "metadata": {},
   "outputs": [
    {
     "data": {
      "text/html": [
       "<div>\n",
       "<style scoped>\n",
       "    .dataframe tbody tr th:only-of-type {\n",
       "        vertical-align: middle;\n",
       "    }\n",
       "\n",
       "    .dataframe tbody tr th {\n",
       "        vertical-align: top;\n",
       "    }\n",
       "\n",
       "    .dataframe thead th {\n",
       "        text-align: right;\n",
       "    }\n",
       "</style>\n",
       "<table border=\"1\" class=\"dataframe\">\n",
       "  <thead>\n",
       "    <tr style=\"text-align: right;\">\n",
       "      <th></th>\n",
       "      <th>语文</th>\n",
       "      <th>数学</th>\n",
       "      <th>英语</th>\n",
       "    </tr>\n",
       "  </thead>\n",
       "  <tbody>\n",
       "    <tr>\n",
       "      <th>小明</th>\n",
       "      <td>0.0</td>\n",
       "      <td>0.0</td>\n",
       "      <td>0.0</td>\n",
       "    </tr>\n",
       "    <tr>\n",
       "      <th>小红</th>\n",
       "      <td>0.0</td>\n",
       "      <td>0.0</td>\n",
       "      <td>0.0</td>\n",
       "    </tr>\n",
       "    <tr>\n",
       "      <th>小兰</th>\n",
       "      <td>0.0</td>\n",
       "      <td>0.0</td>\n",
       "      <td>0.0</td>\n",
       "    </tr>\n",
       "  </tbody>\n",
       "</table>\n",
       "</div>"
      ],
      "text/plain": [
       "     语文   数学   英语\n",
       "小明  0.0  0.0  0.0\n",
       "小红  0.0  0.0  0.0\n",
       "小兰  0.0  0.0  0.0"
      ]
     },
     "execution_count": 7,
     "metadata": {},
     "output_type": "execute_result"
    }
   ],
   "source": [
    "x=np.zeros([3,3])\n",
    "dx=pd.DataFrame(x,index=['小明','小红','小兰'],columns=['语文','数学','英语'])\n",
    "dx"
   ]
  },
  {
   "cell_type": "code",
   "execution_count": 8,
   "metadata": {},
   "outputs": [
    {
     "name": "stdout",
     "output_type": "stream",
     "text": [
      "     语文   数学   英语\n",
      "小明  0.0  0.0  0.0\n",
      "小红  0.0  0.0  0.0\n",
      "小兰  0.0  0.0  0.0\n"
     ]
    }
   ],
   "source": [
    "print(dx)"
   ]
  },
  {
   "cell_type": "code",
   "execution_count": 10,
   "metadata": {},
   "outputs": [
    {
     "name": "stdout",
     "output_type": "stream",
     "text": [
      "     0    1    2\n",
      "0  0.0  2.0  3.0\n",
      "1  1.0  3.0  2.0\n",
      "2  2.0  0.0  1.0\n"
     ]
    }
   ],
   "source": [
    "x=np.zeros([3,3])\n",
    "for i in range(3):\n",
    "    x[i]=[i,i^2,i^3]\n",
    "dx=pd.DataFrame(x)\n",
    "print(dx)"
   ]
  },
  {
   "cell_type": "code",
   "execution_count": null,
   "metadata": {},
   "outputs": [],
   "source": []
  }
 ],
 "metadata": {
  "kernelspec": {
   "display_name": "Python 3",
   "language": "python",
   "name": "python3"
  },
  "language_info": {
   "codemirror_mode": {
    "name": "ipython",
    "version": 3
   },
   "file_extension": ".py",
   "mimetype": "text/x-python",
   "name": "python",
   "nbconvert_exporter": "python",
   "pygments_lexer": "ipython3",
   "version": "3.7.6"
  }
 },
 "nbformat": 4,
 "nbformat_minor": 4
}
