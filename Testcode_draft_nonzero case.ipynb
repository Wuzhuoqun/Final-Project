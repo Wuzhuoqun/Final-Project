{
 "cells": [
  {
   "cell_type": "code",
   "execution_count": 41,
   "metadata": {},
   "outputs": [],
   "source": [
    "import numpy as np\n",
    "import pyfeng as pf\n",
    "import timer\n",
    "\n",
    "n_path = 200000\n",
    "dt = 1 / 250"
   ]
  },
  {
   "cell_type": "code",
   "execution_count": 43,
   "metadata": {},
   "outputs": [
    {
     "data": {
      "text/plain": [
       "array([[[[0., 0., 0.],\n",
       "         [0., 0., 0.],\n",
       "         [0., 0., 0.]],\n",
       "\n",
       "        [[0., 0., 0.],\n",
       "         [0., 0., 0.],\n",
       "         [0., 0., 0.]]],\n",
       "\n",
       "\n",
       "       [[[0., 0., 0.],\n",
       "         [0., 0., 0.],\n",
       "         [0., 0., 0.]],\n",
       "\n",
       "        [[0., 0., 0.],\n",
       "         [0., 0., 0.],\n",
       "         [0., 0., 0.]]],\n",
       "\n",
       "\n",
       "       [[[0., 0., 0.],\n",
       "         [0., 0., 0.],\n",
       "         [0., 0., 0.]],\n",
       "\n",
       "        [[0., 0., 0.],\n",
       "         [0., 0., 0.],\n",
       "         [0., 0., 0.]]]])"
      ]
     },
     "execution_count": 43,
     "metadata": {},
     "output_type": "execute_result"
    }
   ],
   "source": [
    "x = np.zeros([3,2,3,3])\n",
    "x\n",
    "# 2：T(texp)     3：rho      4：K(strike)     5：vov"
   ]
  },
  {
   "cell_type": "code",
   "execution_count": 44,
   "metadata": {},
   "outputs": [],
   "source": [
    "call_price_nonzero_corr = put_price_nonzero_corr = np.zeros([3,2,3,3])"
   ]
  },
  {
   "cell_type": "code",
   "execution_count": 45,
   "metadata": {},
   "outputs": [],
   "source": [
    "# sigma, mr, spot, theta, intr = 0.087, 2, 100, 0.09, 0.015\n",
    "# vol_budget = 0.087  # Li M, Mercurio F (2015). Budget level is constant = 0.087\n",
    "# for vov in [0.125, 0.25, 0.375]:\n",
    "#     for texp in [0.5, 1.0, 1.5,]:\n",
    "#         for rho in [-0.5, 0.5]:\n",
    "#             for strike in [90, 100, 110]:\n",
    "#                 m = pf.HestonMcAndersen2008(sigma, vov=vov, mr=mr, rho=rho, theta=theta, intr=intr)\n",
    "#                 m.set_num_params(n_path=n_path, dt=dt, rn_seed=123456)\n",
    "\n",
    "#                 cp = 1  # Timer option--call option\n",
    "#                 print(\"vov(η)=\", vov, \"texp(T)=\", texp, \"rho(ρ)=\", rho, \"strike(K)=\", strike, \": \", \\\n",
    "#                       timer.timeroption(vol_budget, model=m).price(spot=spot, strike=strike, texp=texp, cp=cp))\n"
   ]
  },
  {
   "cell_type": "code",
   "execution_count": 46,
   "metadata": {},
   "outputs": [],
   "source": [
    "sigma, mr, spot, theta, intr = 0.087, 2, 100, 0.09, 0.015\n",
    "vol_budget = 0.087 "
   ]
  },
  {
   "cell_type": "code",
   "execution_count": 47,
   "metadata": {},
   "outputs": [],
   "source": [
    "vov = np.array([0.125, 0.25, 0.375])\n",
    "texp = np.array([0.5, 1.0, 1.5])\n",
    "strike = np.array([90, 100, 110])\n",
    "rho = np.array([-0.5,0.5])"
   ]
  },
  {
   "cell_type": "code",
   "execution_count": 48,
   "metadata": {},
   "outputs": [],
   "source": [
    "# 以下是上一个zerocorr的参考\n",
    "# for i in range(len(texp)):\n",
    "#     print('T = %s:' % texp[i])\n",
    "#     for j in range(len(strike)):\n",
    "#         for k in range(len(vov)):\n",
    "#             m = pf.HestonMcAndersen2008(sigma, vov=vov[k], mr=mr, rho=rho, theta=theta, intr=intr)\n",
    "#             m.set_num_params(n_path=n_path, dt=dt, rn_seed=123456)\n",
    "#             cp = 1\n",
    "#             x[i][j][k] = timer.timeroption(vol_budget, model=m).price(spot=spot, strike=strike[j], texp=texp[i], cp=cp)\n",
    "#         print(x[i][j][:])\n",
    "#     print('\\n')"
   ]
  },
  {
   "cell_type": "code",
   "execution_count": null,
   "metadata": {},
   "outputs": [],
   "source": []
  },
  {
   "cell_type": "code",
   "execution_count": 52,
   "metadata": {},
   "outputs": [
    {
     "name": "stdout",
     "output_type": "stream",
     "text": [
      "T = 0.5:\n",
      "ρ= -0.5:\n",
      "[14.40064043 14.448647   14.47131025]\n",
      "[8.64366128 8.58357415 8.49092213]\n",
      "[4.74896053 4.59580958 4.41768501]\n",
      "ρ= 0.5:\n",
      "[14.2901341  14.17646139 14.03995041]\n",
      "[8.72901456 8.69804496 8.63118272]\n",
      "[5.02545455 5.09998075 5.14021977]\n",
      "T = 1.0:\n",
      "ρ= -0.5:\n",
      "[17.42161591 17.21078374 16.96774678]\n",
      "[12.11565397 11.79817218 11.45108592]\n",
      "[8.1434515  7.75249402 7.33865473]\n",
      "ρ= 0.5:\n",
      "[17.33615518 17.02355506 16.67850361]\n",
      "[12.13208139 11.84523354 11.52606506]\n",
      "[8.26508387 8.03378264 7.78367029]\n",
      "T = 1.5:\n",
      "ρ= -0.5:\n",
      "[17.6524072  17.73836109 17.68955813]\n",
      "[12.41630308 12.48741747 12.39664518]\n",
      "[8.49813475 8.55262405 8.4200442 ]\n",
      "ρ= 0.5:\n",
      "[17.60262578 17.6237348  17.53390928]\n",
      "[12.36234598 12.3824103  12.30942948]\n",
      "[8.44575663 8.45931241 8.40862692]\n"
     ]
    }
   ],
   "source": [
    "# 以下才是最终代码！！\n",
    "\n",
    "# 对call：\n",
    "cp=1\n",
    "\n",
    "for i in range(len(texp)):\n",
    "    print('T = %s:' % texp[i])\n",
    "    for j in range(len(rho)):\n",
    "        print('ρ= %s:' % rho[j])\n",
    "        for k in range(len(strike)):\n",
    "            for l in range(len(vov)):\n",
    "                m = pf.HestonMcAndersen2008(sigma, vov=vov[l], mr=mr, rho=rho[j], theta=theta, intr=intr)\n",
    "                m.set_num_params(n_path=n_path, dt=dt, rn_seed=123456)\n",
    "                \n",
    "                call_price_nonzero_corr[i][j][k][l] = timer.timeroption(vol_budget, model=m).price(spot=spot, strike=strike[k], texp=texp[i], cp=cp)\n",
    "            \n",
    "            print(call_price_nonzero_corr[i][j][k][:])\n",
    "        print('\\n')\n",
    "\n",
    "                \n",
    "            \n",
    "        \n",
    "#     # for j in range(len(strike)):\n",
    "#         # for k in range(len(rho)):\n",
    "#             print('ρ= %s:' % rho[k])\n",
    "#             for l in range(len(vov)):\n",
    "#                 m = pf.HestonMcAndersen2008(sigma, vov=vov[l], mr=mr, rho=rho[k], theta=theta, intr=intr)\n",
    "#                 m.set_num_params(n_path=n_path, dt=dt, rn_seed=123456)\n",
    "#                 call_price_nonzero_corr[i][j][k][l] = timer.timeroption(vol_budget, model=m).price(spot=spot, strike=strike[j], texp=texp[i], cp=cp)\n",
    "#             print(call_price_nonzero_corr[i][:][k][:])\n",
    "                \n",
    "                    \n",
    "            \n",
    "#         # for j in range(len(strike)):\n",
    "#         for k in range(len(vov)):\n",
    "#             m = pf.HestonMcAndersen2008(sigma, vov=vov[k], mr=mr, rho=rho, theta=theta, intr=intr)\n",
    "#             m.set_num_params(n_path=n_path, dt=dt, rn_seed=123456)\n",
    "#             x[i][j][k] = timer.timeroption(vol_budget, model=m).price(spot=spot, strike=strike[j], texp=texp[i], cp=cp)\n",
    "#         print(x[i][j][:])\n",
    "#     print('\\n')"
   ]
  },
  {
   "cell_type": "code",
   "execution_count": null,
   "metadata": {},
   "outputs": [],
   "source": []
  }
 ],
 "metadata": {
  "kernelspec": {
   "display_name": "Python 3",
   "language": "python",
   "name": "python3"
  },
  "language_info": {
   "codemirror_mode": {
    "name": "ipython",
    "version": 3
   },
   "file_extension": ".py",
   "mimetype": "text/x-python",
   "name": "python",
   "nbconvert_exporter": "python",
   "pygments_lexer": "ipython3",
   "version": "3.7.6"
  }
 },
 "nbformat": 4,
 "nbformat_minor": 4
}
