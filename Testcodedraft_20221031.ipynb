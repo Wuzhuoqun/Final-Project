{
 "cells": [
  {
   "cell_type": "code",
   "execution_count": 1,
   "metadata": {},
   "outputs": [],
   "source": [
    "import pyfeng as pf\n",
    "import timer\n",
    "import numpy as np\n",
    "\n",
    "n_path = 200000\n",
    "dt = 1 / 250\n",
    "\n",
    "sigma, mr, spot, theta, intr = 0.087, 2, 100, 0.09, 0.015\n",
    "vol_budget = 0.087  # Li M, Mercurio F (2015). Budget level is constant = 0.087\n",
    "\n",
    "# for vov in [0.125, 0.25, 0.375]:\n",
    "#     for texp in [0.5, 1.0, 1.5, 2.0, 10.0]:\n",
    "#         for rho in [0]:\n",
    "#             for strike in [90, 100, 110]:\n",
    "#                 m = pf.HestonMcAndersen2008(sigma, vov=vov, mr=mr, rho=rho, theta=theta, intr=intr)\n",
    "#                 m.set_num_params(n_path=n_path, dt=dt, rn_seed=123456)\n",
    "#\n",
    "#                 cp = 1  # Timer option--call option\n",
    "#                 print(\"vov(η)=\", vov, \"texp(T)=\", texp, \"rho(ρ)=\", rho, \"strike(K)=\", strike, \": \", \\\n",
    "#                       timer.timeroption(vol_budget, model=m).price(spot=spot, strike=strike, texp=texp, cp=cp))\n",
    "\n",
    "rho = 0\n",
    "\n"
   ]
  },
  {
   "cell_type": "code",
   "execution_count": 2,
   "metadata": {},
   "outputs": [
    {
     "name": "stdout",
     "output_type": "stream",
     "text": [
      "vov(η)= 0.125 texp(T)= 0.5 rho(ρ)= 0 strike(K)= 90 :  14.34160091358013\n",
      "vov(η)= 0.125 texp(T)= 0.5 rho(ρ)= 0 strike(K)= 100 :  8.676474460906581\n",
      "vov(η)= 0.125 texp(T)= 0.5 rho(ρ)= 0 strike(K)= 110 :  4.885439191043122\n",
      "vov(η)= 0.125 texp(T)= 1.0 rho(ρ)= 0 strike(K)= 90 :  17.351991137359274\n",
      "vov(η)= 0.125 texp(T)= 1.0 rho(ρ)= 0 strike(K)= 100 :  12.088966844687794\n",
      "vov(η)= 0.125 texp(T)= 1.0 rho(ρ)= 0 strike(K)= 110 :  8.172385142697719\n",
      "vov(η)= 0.125 texp(T)= 1.5 rho(ρ)= 0 strike(K)= 90 :  17.625675051751138\n",
      "vov(η)= 0.125 texp(T)= 1.5 rho(ρ)= 0 strike(K)= 100 :  12.38781846643078\n",
      "vov(η)= 0.125 texp(T)= 1.5 rho(ρ)= 0 strike(K)= 110 :  8.463572125116025\n",
      "vov(η)= 0.125 texp(T)= 2.0 rho(ρ)= 0 strike(K)= 90 :  17.625987616391274\n",
      "vov(η)= 0.125 texp(T)= 2.0 rho(ρ)= 0 strike(K)= 100 :  12.388078249199374\n",
      "vov(η)= 0.125 texp(T)= 2.0 rho(ρ)= 0 strike(K)= 110 :  8.46382510431802\n",
      "vov(η)= 0.125 texp(T)= 10.0 rho(ρ)= 0 strike(K)= 90 :  17.625987616391274\n",
      "vov(η)= 0.125 texp(T)= 10.0 rho(ρ)= 0 strike(K)= 100 :  12.388078249199374\n",
      "vov(η)= 0.125 texp(T)= 10.0 rho(ρ)= 0 strike(K)= 110 :  8.46382510431802\n",
      "vov(η)= 0.25 texp(T)= 0.5 rho(ρ)= 0 strike(K)= 90 :  14.316910540093335\n",
      "vov(η)= 0.25 texp(T)= 0.5 rho(ρ)= 0 strike(K)= 100 :  8.633668211241769\n",
      "vov(η)= 0.25 texp(T)= 0.5 rho(ρ)= 0 strike(K)= 110 :  4.8524167525678195\n",
      "vov(η)= 0.25 texp(T)= 1.0 rho(ρ)= 0 strike(K)= 90 :  17.06532512466205\n",
      "vov(η)= 0.25 texp(T)= 1.0 rho(ρ)= 0 strike(K)= 100 :  11.75426648126074\n",
      "vov(η)= 0.25 texp(T)= 1.0 rho(ρ)= 0 strike(K)= 110 :  7.845615509899826\n",
      "vov(η)= 0.25 texp(T)= 1.5 rho(ρ)= 0 strike(K)= 90 :  17.667184226167333\n",
      "vov(η)= 0.25 texp(T)= 1.5 rho(ρ)= 0 strike(K)= 100 :  12.41784448159077\n",
      "vov(η)= 0.25 texp(T)= 1.5 rho(ρ)= 0 strike(K)= 110 :  8.487828581636064\n",
      "vov(η)= 0.25 texp(T)= 2.0 rho(ρ)= 0 strike(K)= 90 :  17.69762592985891\n",
      "vov(η)= 0.25 texp(T)= 2.0 rho(ρ)= 0 strike(K)= 100 :  12.451588712865451\n",
      "vov(η)= 0.25 texp(T)= 2.0 rho(ρ)= 0 strike(K)= 110 :  8.522221757653012\n",
      "vov(η)= 0.25 texp(T)= 10.0 rho(ρ)= 0 strike(K)= 90 :  17.698396951676063\n",
      "vov(η)= 0.25 texp(T)= 10.0 rho(ρ)= 0 strike(K)= 100 :  12.452381774188291\n",
      "vov(η)= 0.25 texp(T)= 10.0 rho(ρ)= 0 strike(K)= 110 :  8.52309046996117\n",
      "vov(η)= 0.375 texp(T)= 0.5 rho(ρ)= 0 strike(K)= 90 :  14.2699920342206\n",
      "vov(η)= 0.375 texp(T)= 0.5 rho(ρ)= 0 strike(K)= 100 :  8.554524766658055\n",
      "vov(η)= 0.375 texp(T)= 0.5 rho(ρ)= 0 strike(K)= 110 :  4.790883146870568\n",
      "vov(η)= 0.375 texp(T)= 1.0 rho(ρ)= 0 strike(K)= 90 :  16.7603549429988\n",
      "vov(η)= 0.375 texp(T)= 1.0 rho(ρ)= 0 strike(K)= 100 :  11.395723671568417\n",
      "vov(η)= 0.375 texp(T)= 1.0 rho(ρ)= 0 strike(K)= 110 :  7.4921256332565624\n",
      "vov(η)= 0.375 texp(T)= 1.5 rho(ρ)= 0 strike(K)= 90 :  17.576131362605736\n",
      "vov(η)= 0.375 texp(T)= 1.5 rho(ρ)= 0 strike(K)= 100 :  12.300752855633458\n",
      "vov(η)= 0.375 texp(T)= 1.5 rho(ρ)= 0 strike(K)= 110 :  8.361704965430794\n",
      "vov(η)= 0.375 texp(T)= 2.0 rho(ρ)= 0 strike(K)= 90 :  17.750435583298454\n",
      "vov(η)= 0.375 texp(T)= 2.0 rho(ρ)= 0 strike(K)= 100 :  12.49166060435888\n",
      "vov(η)= 0.375 texp(T)= 2.0 rho(ρ)= 0 strike(K)= 110 :  8.54776175398433\n",
      "vov(η)= 0.375 texp(T)= 10.0 rho(ρ)= 0 strike(K)= 90 :  17.766744026558907\n",
      "vov(η)= 0.375 texp(T)= 10.0 rho(ρ)= 0 strike(K)= 100 :  12.510046730470965\n",
      "vov(η)= 0.375 texp(T)= 10.0 rho(ρ)= 0 strike(K)= 110 :  8.565505533641284\n"
     ]
    }
   ],
   "source": [
    "import pyfeng as pf\n",
    "import timer\n",
    "\n",
    "n_path = 200000\n",
    "dt = 1 / 250\n",
    "\n",
    "sigma, mr, spot, theta, intr = 0.087, 2, 100, 0.09, 0.015\n",
    "vol_budget = 0.087  # Li M, Mercurio F (2015). Budget level is constant = 0.087\n",
    "for vov in [0.125, 0.25, 0.375]:\n",
    "    for texp in [0.5, 1.0, 1.5, 2.0, 10.0]:\n",
    "        for rho in [0]:\n",
    "            for strike in [90, 100, 110]:\n",
    "                m = pf.HestonMcAndersen2008(sigma, vov=vov, mr=mr, rho=rho, theta=theta, intr=intr)\n",
    "                m.set_num_params(n_path=n_path, dt=dt, rn_seed=123456)\n",
    "\n",
    "                cp = 1  # Timer option--call option\n",
    "                print(\"vov(η)=\", vov, \"texp(T)=\", texp, \"rho(ρ)=\", rho, \"strike(K)=\", strike, \": \", \\\n",
    "                      timer.timeroption(vol_budget, model=m).price(spot=spot, strike=strike, texp=texp, cp=cp))\n"
   ]
  },
  {
   "cell_type": "code",
   "execution_count": null,
   "metadata": {},
   "outputs": [],
   "source": [
    "import pyfeng as pf\n",
    "import timer\n",
    "\n",
    "n_path = 200000\n",
    "dt = 1 / 250\n",
    "\n",
    "sigma, mr, spot, theta, intr = 0.087, 2, 100, 0.09, 0.015\n",
    "vol_budget = 0.087  # Li M, Mercurio F (2015). Budget level is constant = 0.087\n",
    "for vov in [0.125, 0.25, 0.375]:\n",
    "    for texp in [0.5, 1.0, 1.5, 2.0, 10.0]:\n",
    "        for rho in [0]:\n",
    "            for strike in [90, 100, 110]:\n",
    "                m = pf.HestonMcAndersen2008(sigma, vov=vov, mr=mr, rho=rho, theta=theta, intr=intr)\n",
    "                m.set_num_params(n_path=n_path, dt=dt, rn_seed=123456)\n",
    "\n",
    "                cp = 1  # Timer option--call option\n",
    "                print(\"vov(η)=\", vov, \"texp(T)=\", texp, \"rho(ρ)=\", rho, \"strike(K)=\", strike, \": \", \\\n",
    "                      timer.timeroption(vol_budget, model=m).price(spot=spot, strike=strike, texp=texp, cp=cp))\n"
   ]
  },
  {
   "cell_type": "code",
   "execution_count": null,
   "metadata": {},
   "outputs": [],
   "source": []
  }
 ],
 "metadata": {
  "kernelspec": {
   "display_name": "Python 3",
   "language": "python",
   "name": "python3"
  },
  "language_info": {
   "codemirror_mode": {
    "name": "ipython",
    "version": 3
   },
   "file_extension": ".py",
   "mimetype": "text/x-python",
   "name": "python",
   "nbconvert_exporter": "python",
   "pygments_lexer": "ipython3",
   "version": "3.7.6"
  }
 },
 "nbformat": 4,
 "nbformat_minor": 4
}
