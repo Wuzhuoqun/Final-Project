{
 "cells": [
  {
   "cell_type": "code",
   "execution_count": 10,
   "metadata": {},
   "outputs": [],
   "source": [
    "import pyfeng as pf\n",
    "import timer_mc # the timer option model\n",
    "import numpy as np\n",
    "import pandas as pd\n",
    "import time\n",
    "\n",
    "n_path = 200000\n",
    "dt = 1 / 250\n",
    "\n",
    "sigma, mr, spot, theta, intr = 0.087, 2, 100, 0.09, 0.015\n",
    "vol_budget = 0.087  # Li M, Mercurio F (2015). Budget level is constant = 0.087\n",
    "\n",
    "vov = 0.125\n",
    "texp = 0.5\n",
    "rho = 0\n",
    "strike = 0\n",
    "m = pf.HestonMcAndersen2008(sigma, vov=vov, mr=mr, rho=rho, theta=theta, intr=intr)\n",
    "m.set_num_params(n_path=n_path, dt=dt, rn_seed=123456)"
   ]
  },
  {
   "cell_type": "code",
   "execution_count": 18,
   "metadata": {},
   "outputs": [
    {
     "ename": "AttributeError",
     "evalue": "'numpy.ndarray' object has no attribute 'DataFrame'",
     "output_type": "error",
     "traceback": [
      "\u001b[1;31m---------------------------------------------------------------------------\u001b[0m",
      "\u001b[1;31mAttributeError\u001b[0m                            Traceback (most recent call last)",
      "\u001b[1;32m<ipython-input-18-4696064fcc8e>\u001b[0m in \u001b[0;36m<module>\u001b[1;34m\u001b[0m\n\u001b[0;32m      1\u001b[0m \u001b[0mx\u001b[0m\u001b[1;33m=\u001b[0m\u001b[0mnp\u001b[0m\u001b[1;33m.\u001b[0m\u001b[0mzeros\u001b[0m\u001b[1;33m(\u001b[0m\u001b[1;33m[\u001b[0m\u001b[1;36m10\u001b[0m\u001b[1;33m,\u001b[0m\u001b[1;36m2\u001b[0m\u001b[1;33m]\u001b[0m\u001b[1;33m)\u001b[0m\u001b[1;33m\u001b[0m\u001b[1;33m\u001b[0m\u001b[0m\n\u001b[0;32m      2\u001b[0m \u001b[0mx\u001b[0m\u001b[1;33m\u001b[0m\u001b[1;33m\u001b[0m\u001b[0m\n\u001b[1;32m----> 3\u001b[1;33m \u001b[0mprint\u001b[0m\u001b[1;33m(\u001b[0m\u001b[0mx\u001b[0m\u001b[1;33m.\u001b[0m\u001b[0mDataFrame\u001b[0m\u001b[1;33m)\u001b[0m\u001b[1;33m\u001b[0m\u001b[1;33m\u001b[0m\u001b[0m\n\u001b[0m\u001b[0;32m      4\u001b[0m \u001b[1;31m# for i in range(10):\u001b[0m\u001b[1;33m\u001b[0m\u001b[1;33m\u001b[0m\u001b[1;33m\u001b[0m\u001b[0m\n\u001b[0;32m      5\u001b[0m \u001b[1;31m#     print(1,2)\u001b[0m\u001b[1;33m\u001b[0m\u001b[1;33m\u001b[0m\u001b[1;33m\u001b[0m\u001b[0m\n",
      "\u001b[1;31mAttributeError\u001b[0m: 'numpy.ndarray' object has no attribute 'DataFrame'"
     ]
    }
   ],
   "source": [
    "x=np.zeros([10,2])\n",
    "dx=\n",
    "print(x.DataFrame)\n",
    "# for i in range(10):\n",
    "#     print(1,2)"
   ]
  },
  {
   "cell_type": "code",
   "execution_count": 21,
   "metadata": {},
   "outputs": [
    {
     "name": "stdout",
     "output_type": "stream",
     "text": [
      "BSM_price = 11.923538474048499\n"
     ]
    }
   ],
   "source": [
    "n_path = 200000\n",
    "dt = 1 / 100\n",
    "\n",
    "sigma, mr, spot, theta, intr = 0.09, 2, 100, 0.09, 0.00\n",
    "vol_budget = 0.09\n",
    "vov = 0.125\n",
    "rho = 0\n",
    "strike = 100\n",
    "# for texp in np.linspace(0.1, 5, 30):\n",
    "texp = 4\n",
    "\n",
    "m = pf.HestonMcAndersen2008(sigma, vov=vov, mr=mr, rho=rho, theta=theta, intr=intr)\n",
    "m.set_num_params(n_path=n_path, dt=dt, rn_seed=123456)\n",
    "\n",
    "cp = 1  # Timer option--call option\n",
    "m2 = pf.Bsm(sigma=np.sqrt(vol_budget/texp), intr=intr)\n",
    "price_bsm = m2.price(strike=strike, spot=spot, texp=texp)\n",
    "print(\"BSM_price =\", price_bsm)"
   ]
  },
  {
   "cell_type": "code",
   "execution_count": 14,
   "metadata": {},
   "outputs": [],
   "source": [
    "# for i in range(10):\n",
    "#     print(\"vov(η)=\", vov, \"texp(T)=\", texp, \"rho(ρ)=\", rho, \"strike(K)=\", strike, \": \", \"  Timer Call Option =\",\\\n",
    "#           timer_mc.timeroption(vol_budget, model=m).price(spot=spot, strike=strike, texp=texp, cp=cp))"
   ]
  },
  {
   "cell_type": "code",
   "execution_count": 20,
   "metadata": {},
   "outputs": [
    {
     "data": {
      "text/html": [
       "<div>\n",
       "<style scoped>\n",
       "    .dataframe tbody tr th:only-of-type {\n",
       "        vertical-align: middle;\n",
       "    }\n",
       "\n",
       "    .dataframe tbody tr th {\n",
       "        vertical-align: top;\n",
       "    }\n",
       "\n",
       "    .dataframe thead th {\n",
       "        text-align: right;\n",
       "    }\n",
       "</style>\n",
       "<table border=\"1\" class=\"dataframe\">\n",
       "  <thead>\n",
       "    <tr style=\"text-align: right;\">\n",
       "      <th></th>\n",
       "      <th>Simple MC</th>\n",
       "      <th>Cond MC</th>\n",
       "    </tr>\n",
       "  </thead>\n",
       "  <tbody>\n",
       "    <tr>\n",
       "      <th>0</th>\n",
       "      <td>11.975142</td>\n",
       "      <td>11.935699</td>\n",
       "    </tr>\n",
       "    <tr>\n",
       "      <th>1</th>\n",
       "      <td>11.895329</td>\n",
       "      <td>11.935769</td>\n",
       "    </tr>\n",
       "    <tr>\n",
       "      <th>2</th>\n",
       "      <td>11.953632</td>\n",
       "      <td>11.935717</td>\n",
       "    </tr>\n",
       "    <tr>\n",
       "      <th>3</th>\n",
       "      <td>11.917495</td>\n",
       "      <td>11.935727</td>\n",
       "    </tr>\n",
       "    <tr>\n",
       "      <th>4</th>\n",
       "      <td>11.922575</td>\n",
       "      <td>11.935768</td>\n",
       "    </tr>\n",
       "    <tr>\n",
       "      <th>5</th>\n",
       "      <td>11.977220</td>\n",
       "      <td>11.935729</td>\n",
       "    </tr>\n",
       "    <tr>\n",
       "      <th>6</th>\n",
       "      <td>11.970440</td>\n",
       "      <td>11.935703</td>\n",
       "    </tr>\n",
       "    <tr>\n",
       "      <th>7</th>\n",
       "      <td>11.960694</td>\n",
       "      <td>11.935747</td>\n",
       "    </tr>\n",
       "    <tr>\n",
       "      <th>8</th>\n",
       "      <td>11.992608</td>\n",
       "      <td>11.935714</td>\n",
       "    </tr>\n",
       "    <tr>\n",
       "      <th>9</th>\n",
       "      <td>11.878624</td>\n",
       "      <td>11.935719</td>\n",
       "    </tr>\n",
       "  </tbody>\n",
       "</table>\n",
       "</div>"
      ],
      "text/plain": [
       "   Simple MC    Cond MC\n",
       "0  11.975142  11.935699\n",
       "1  11.895329  11.935769\n",
       "2  11.953632  11.935717\n",
       "3  11.917495  11.935727\n",
       "4  11.922575  11.935768\n",
       "5  11.977220  11.935729\n",
       "6  11.970440  11.935703\n",
       "7  11.960694  11.935747\n",
       "8  11.992608  11.935714\n",
       "9  11.878624  11.935719"
      ]
     },
     "execution_count": 20,
     "metadata": {},
     "output_type": "execute_result"
    }
   ],
   "source": [
    "for i in range(10):\n",
    "    \n",
    "    x[i] = [timer_mc.timeroption(vol_budget, model=m).price(spot=spot, strike=strike, texp=texp, cp=cp,condmc=0),\\\n",
    "          timer_mc.timeroption(vol_budget, model=m).price(spot=spot, strike=strike, texp=texp, cp=cp,condmc=1)]\n",
    "dx = pd.DataFrame(x,columns=['Simple MC','Cond MC'])\n",
    "dx"
   ]
  },
  {
   "cell_type": "code",
   "execution_count": null,
   "metadata": {},
   "outputs": [],
   "source": []
  }
 ],
 "metadata": {
  "kernelspec": {
   "display_name": "Python 3",
   "language": "python",
   "name": "python3"
  },
  "language_info": {
   "codemirror_mode": {
    "name": "ipython",
    "version": 3
   },
   "file_extension": ".py",
   "mimetype": "text/x-python",
   "name": "python",
   "nbconvert_exporter": "python",
   "pygments_lexer": "ipython3",
   "version": "3.7.6"
  }
 },
 "nbformat": 4,
 "nbformat_minor": 4
}
